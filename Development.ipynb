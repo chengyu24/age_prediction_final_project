{
 "cells": [
  {
   "cell_type": "markdown",
   "metadata": {},
   "source": [
    "# Development Phase\n",
    "\n",
    "## Training of models "
   ]
  },
  {
   "cell_type": "markdown",
   "metadata": {},
   "source": [
    "!nvidia-smi commmand shows what GPU is being used and the specifications of the GPU."
   ]
  },
  {
   "cell_type": "code",
   "execution_count": 1,
   "metadata": {
    "colab": {
     "base_uri": "https://localhost:8080/"
    },
    "id": "UmmD8z0iId2M",
    "outputId": "9cc94409-3046-44b5-bd09-9aba5245ef6e",
    "scrolled": false
   },
   "outputs": [
    {
     "name": "stdout",
     "output_type": "stream",
     "text": [
      "Fri Mar  8 19:09:02 2024       \r\n",
      "+-----------------------------------------------------------------------------------------+\r\n",
      "| NVIDIA-SMI 550.54.10              Driver Version: 551.61         CUDA Version: 12.4     |\r\n",
      "|-----------------------------------------+------------------------+----------------------+\r\n",
      "| GPU  Name                 Persistence-M | Bus-Id          Disp.A | Volatile Uncorr. ECC |\r\n",
      "| Fan  Temp   Perf          Pwr:Usage/Cap |           Memory-Usage | GPU-Util  Compute M. |\r\n",
      "|                                         |                        |               MIG M. |\r\n",
      "|=========================================+========================+======================|\r\n",
      "|   0  NVIDIA GeForce RTX 3080 Ti     On  |   00000000:2D:00.0  On |                  N/A |\r\n",
      "|  0%   52C    P0            107W /  350W |    1651MiB /  12288MiB |      0%      Default |\r\n",
      "|                                         |                        |                  N/A |\r\n",
      "+-----------------------------------------+------------------------+----------------------+\r\n",
      "                                                                                         \r\n",
      "+-----------------------------------------------------------------------------------------+\r\n",
      "| Processes:                                                                              |\r\n",
      "|  GPU   GI   CI        PID   Type   Process name                              GPU Memory |\r\n",
      "|        ID   ID                                                               Usage      |\r\n",
      "|=========================================================================================|\r\n",
      "|    0   N/A  N/A        20      G   /Xwayland                                   N/A      |\r\n",
      "|    0   N/A  N/A        22      G   /Xwayland                                   N/A      |\r\n",
      "+-----------------------------------------------------------------------------------------+\r\n"
     ]
    }
   ],
   "source": [
    "!nvidia-smi"
   ]
  },
  {
   "cell_type": "markdown",
   "metadata": {},
   "source": [
    "Importing all necessary libraries and packages that will be used later"
   ]
  },
  {
   "cell_type": "code",
   "execution_count": 2,
   "metadata": {
    "colab": {
     "base_uri": "https://localhost:8080/"
    },
    "id": "EpaT7BR-I3pG",
    "outputId": "f8432d1f-983d-441f-f659-024880920dad"
   },
   "outputs": [
    {
     "name": "stderr",
     "output_type": "stream",
     "text": [
      "2024-03-08 19:09:02.607409: E external/local_xla/xla/stream_executor/cuda/cuda_dnn.cc:9261] Unable to register cuDNN factory: Attempting to register factory for plugin cuDNN when one has already been registered\n",
      "2024-03-08 19:09:02.607453: E external/local_xla/xla/stream_executor/cuda/cuda_fft.cc:607] Unable to register cuFFT factory: Attempting to register factory for plugin cuFFT when one has already been registered\n",
      "2024-03-08 19:09:02.607982: E external/local_xla/xla/stream_executor/cuda/cuda_blas.cc:1515] Unable to register cuBLAS factory: Attempting to register factory for plugin cuBLAS when one has already been registered\n",
      "2024-03-08 19:09:02.611982: I tensorflow/core/platform/cpu_feature_guard.cc:182] This TensorFlow binary is optimized to use available CPU instructions in performance-critical operations.\n",
      "To enable the following instructions: AVX2 FMA, in other operations, rebuild TensorFlow with the appropriate compiler flags.\n"
     ]
    }
   ],
   "source": [
    "import tensorflow as tf\n",
    "from tensorflow.keras.models import Sequential\n",
    "from tensorflow.keras.layers import Conv2D, MaxPooling2D, Flatten, Dense, Dropout, BatchNormalization, Input, GlobalAveragePooling2D\n",
    "from tensorflow.keras.preprocessing.image import ImageDataGenerator\n",
    "from tensorflow.keras.models import Model\n",
    "from tensorflow.keras.metrics import AUC\n",
    "from tensorflow.keras.metrics import F1Score\n",
    "from tensorflow.keras.metrics import Precision, Recall\n",
    "from sklearn.metrics import confusion_matrix, classification_report, roc_curve, auc\n",
    "from sklearn.preprocessing import label_binarize\n",
    "import sklearn.metrics as metrics\n",
    "\n",
    "import matplotlib.pyplot as plt"
   ]
  },
  {
   "cell_type": "markdown",
   "metadata": {},
   "source": [
    "Navigation of file folder to mounted volume in docker container"
   ]
  },
  {
   "cell_type": "code",
   "execution_count": 3,
   "metadata": {
    "colab": {
     "base_uri": "https://localhost:8080/"
    },
    "id": "KNAJ6GeYbQdF",
    "outputId": "04cc64c6-0180-462b-c624-ef10fd99c8c8"
   },
   "outputs": [
    {
     "name": "stdout",
     "output_type": "stream",
     "text": [
      "/\n",
      "/Documents/DATASETS/archive/DATASETS/archive\n",
      "\u001b[0m\u001b[34;42mTrain\u001b[0m/  \u001b[01;32mage_detection.csv\u001b[0m*  \u001b[34;42mtest\u001b[0m/  \u001b[01;32mtrain.csv\u001b[0m*\r\n"
     ]
    },
    {
     "name": "stderr",
     "output_type": "stream",
     "text": [
      "/usr/local/lib/python3.11/dist-packages/IPython/core/magics/osm.py:417: UserWarning: using dhist requires you to install the `pickleshare` library.\n",
      "  self.shell.db['dhist'] = compress_dhist(dhist)[-100:]\n"
     ]
    }
   ],
   "source": [
    "%cd ..\n",
    "%cd Documents/DATASETS/archive/DATASETS/archive\n",
    "%ls"
   ]
  },
  {
   "cell_type": "code",
   "execution_count": 4,
   "metadata": {
    "colab": {
     "base_uri": "https://localhost:8080/"
    },
    "id": "yXfMBf94hHVn",
    "outputId": "20d151d9-5f30-4388-a7d7-64694788265b"
   },
   "outputs": [
    {
     "name": "stdout",
     "output_type": "stream",
     "text": [
      "Requirement already satisfied: pandas in /usr/local/lib/python3.11/dist-packages (2.2.0)\n",
      "Requirement already satisfied: numpy<2,>=1.23.2 in /usr/local/lib/python3.11/dist-packages (from pandas) (1.26.2)\n",
      "Requirement already satisfied: python-dateutil>=2.8.2 in /usr/local/lib/python3.11/dist-packages (from pandas) (2.8.2)\n",
      "Requirement already satisfied: pytz>=2020.1 in /usr/local/lib/python3.11/dist-packages (from pandas) (2024.1)\n",
      "Requirement already satisfied: tzdata>=2022.7 in /usr/local/lib/python3.11/dist-packages (from pandas) (2023.4)\n",
      "Requirement already satisfied: six>=1.5 in /usr/lib/python3/dist-packages (from python-dateutil>=2.8.2->pandas) (1.16.0)\n",
      "\u001b[33mWARNING: Running pip as the 'root' user can result in broken permissions and conflicting behaviour with the system package manager. It is recommended to use a virtual environment instead: https://pip.pypa.io/warnings/venv\u001b[0m\u001b[33m\n",
      "\u001b[0m\n",
      "\u001b[1m[\u001b[0m\u001b[34;49mnotice\u001b[0m\u001b[1;39;49m]\u001b[0m\u001b[39;49m A new release of pip is available: \u001b[0m\u001b[31;49m23.3.1\u001b[0m\u001b[39;49m -> \u001b[0m\u001b[32;49m24.0\u001b[0m\n",
      "\u001b[1m[\u001b[0m\u001b[34;49mnotice\u001b[0m\u001b[1;39;49m]\u001b[0m\u001b[39;49m To update, run: \u001b[0m\u001b[32;49mpython3 -m pip install --upgrade pip\u001b[0m\n",
      "Note: you may need to restart the kernel to use updated packages.\n"
     ]
    }
   ],
   "source": [
    "pip install pandas"
   ]
  },
  {
   "cell_type": "code",
   "execution_count": 5,
   "metadata": {
    "id": "8QjAn441aWuo"
   },
   "outputs": [],
   "source": [
    "import numpy as np\n",
    "import pandas as pd\n",
    "\n",
    "import os\n",
    "import glob\n",
    "\n",
    "from pathlib import Path\n",
    "import pandas as pd"
   ]
  },
  {
   "cell_type": "markdown",
   "metadata": {},
   "source": [
    "Loading of files and files for the first dataset"
   ]
  },
  {
   "cell_type": "code",
   "execution_count": 6,
   "metadata": {
    "colab": {
     "base_uri": "https://localhost:8080/"
    },
    "id": "urUIdVL7hFhF",
    "outputId": "25292171-6a54-4fe0-8153-be89f7776dd1"
   },
   "outputs": [
    {
     "data": {
      "text/plain": [
       "file     object\n",
       "label    object\n",
       "dtype: object"
      ]
     },
     "execution_count": 6,
     "metadata": {},
     "output_type": "execute_result"
    }
   ],
   "source": [
    "train_path = Path('Train/dataset_2')  # Convert the string path to a Path object\n",
    "\n",
    "files = []  # store file paths\n",
    "labels = []  # store labels (age groups)\n",
    "\n",
    "# Iterate over each directory in train_path\n",
    "for age_group_dir in train_path.iterdir():\n",
    "    if age_group_dir.is_dir():  # Make sure it's a directory\n",
    "        age_group = age_group_dir.name  # check if folder name is the age group\n",
    "\n",
    "        # Iterate over each image file in the current age_group_dir\n",
    "        for image_path in age_group_dir.iterdir():\n",
    "            if image_path.is_file():  # Make sure it's a file\n",
    "                files.append(image_path)  # Convert Path object to string if necessary\n",
    "                labels.append(age_group)\n",
    "\n",
    "# Create a DataFrame\n",
    "train_df = pd.DataFrame({\n",
    "    'file': files,\n",
    "    'label': labels\n",
    "})\n",
    "train_df.dtypes"
   ]
  },
  {
   "cell_type": "code",
   "execution_count": 7,
   "metadata": {
    "id": "3XwBFgkUJZ1k"
   },
   "outputs": [],
   "source": [
    "# Define the path to the test data directory\n",
    "test_path = Path('test')\n",
    "\n",
    "files = []  # List to store file paths\n",
    "labels = []  # List to store labels (age groups)\n",
    "\n",
    "# Iterate over each directory in test_path\n",
    "for age_group_dir in test_path.iterdir():\n",
    "    if age_group_dir.is_dir():  # Make sure it's a directory\n",
    "        age_group = age_group_dir.name  # The folder name is the age group\n",
    "\n",
    "        # Iterate over each image file in the current age_group_dir\n",
    "        for image_path in age_group_dir.iterdir():\n",
    "            if image_path.is_file():  # Make sure it's a file\n",
    "                files.append(str(image_path))  # Convert Path object to string if necessary\n",
    "                labels.append(age_group)\n",
    "\n",
    "# Create a DataFrame\n",
    "test_df = pd.DataFrame({\n",
    "    'file': files,\n",
    "    'label': labels\n",
    "})\n"
   ]
  },
  {
   "cell_type": "markdown",
   "metadata": {},
   "source": [
    "Function created to categorise the age groups in young middle and old since the dataset has a slightly different format"
   ]
  },
  {
   "cell_type": "code",
   "execution_count": 8,
   "metadata": {
    "id": "RId49pcIMrAG"
   },
   "outputs": [],
   "source": [
    "def categorise_age(age_group):\n",
    "  if age_group in ['18-20', '21-30']:\n",
    "    return 'YOUNG'\n",
    "  elif age_group in ['31-40', '41-50']:\n",
    "    return 'MIDDLE'\n",
    "  elif age_group == '51-60':\n",
    "    return 'OLD'\n"
   ]
  },
  {
   "cell_type": "code",
   "execution_count": 9,
   "metadata": {
    "colab": {
     "base_uri": "https://localhost:8080/"
    },
    "id": "voXuUt9VLnnm",
    "outputId": "ea4af372-46f4-4a34-bd37-3d3666154ed6"
   },
   "outputs": [
    {
     "name": "stdout",
     "output_type": "stream",
     "text": [
      "file     object\n",
      "label    object\n",
      "dtype: object\n"
     ]
    }
   ],
   "source": [
    "train_df.shape\n",
    "train_df.head()\n",
    "print(train_df.dtypes)"
   ]
  },
  {
   "cell_type": "code",
   "execution_count": 10,
   "metadata": {
    "colab": {
     "base_uri": "https://localhost:8080/"
    },
    "id": "U7kNNe5AnRe1",
    "outputId": "27ed21f5-1c94-4117-a665-6f2fffef6789",
    "scrolled": true
   },
   "outputs": [
    {
     "name": "stdout",
     "output_type": "stream",
     "text": [
      "                             file  label\n",
      "0     Train/dataset_2/18-20/0.jpg  YOUNG\n",
      "1     Train/dataset_2/18-20/1.jpg  YOUNG\n",
      "2    Train/dataset_2/18-20/10.jpg  YOUNG\n",
      "3    Train/dataset_2/18-20/11.jpg  YOUNG\n",
      "4    Train/dataset_2/18-20/12.jpg  YOUNG\n",
      "..                            ...    ...\n",
      "120   Train/dataset_2/51-60/5.jpg    OLD\n",
      "121   Train/dataset_2/51-60/6.jpg    OLD\n",
      "122   Train/dataset_2/51-60/7.jpg    OLD\n",
      "123   Train/dataset_2/51-60/8.jpg    OLD\n",
      "124   Train/dataset_2/51-60/9.jpg    OLD\n",
      "\n",
      "[125 rows x 2 columns]\n"
     ]
    }
   ],
   "source": [
    "train_df.head()\n",
    "train_df['label'] = train_df['label'].apply(categorise_age)\n",
    "print(train_df)"
   ]
  },
  {
   "cell_type": "markdown",
   "metadata": {},
   "source": [
    "Replacing the labels of the original dataset from 'YOUNG', 'MIDDLE' and 'OLD' to 0, 1 and 2 respectively. This step helps to facilitate the process of training the model later on."
   ]
  },
  {
   "cell_type": "code",
   "execution_count": 11,
   "metadata": {
    "colab": {
     "base_uri": "https://localhost:8080/"
    },
    "id": "7wsuanPrntAD",
    "outputId": "19102edd-9d15-4001-d3d9-d340757450ca"
   },
   "outputs": [
    {
     "name": "stderr",
     "output_type": "stream",
     "text": [
      "/tmp/ipykernel_35079/43070346.py:1: FutureWarning: Downcasting behavior in `replace` is deprecated and will be removed in a future version. To retain the old behavior, explicitly call `result.infer_objects(copy=False)`. To opt-in to the future behavior, set `pd.set_option('future.no_silent_downcasting', True)`\n",
      "  train_df['label'].replace(['YOUNG', 'MIDDLE', 'OLD'], [0, 1, 2])\n"
     ]
    },
    {
     "data": {
      "text/plain": [
       "0      0\n",
       "1      0\n",
       "2      0\n",
       "3      0\n",
       "4      0\n",
       "      ..\n",
       "120    2\n",
       "121    2\n",
       "122    2\n",
       "123    2\n",
       "124    2\n",
       "Name: label, Length: 125, dtype: int64"
      ]
     },
     "execution_count": 11,
     "metadata": {},
     "output_type": "execute_result"
    }
   ],
   "source": [
    "train_df['label'].replace(['YOUNG', 'MIDDLE', 'OLD'], [0, 1, 2])"
   ]
  },
  {
   "cell_type": "code",
   "execution_count": 12,
   "metadata": {
    "colab": {
     "base_uri": "https://localhost:8080/"
    },
    "id": "VWU_4zsMLrXa",
    "outputId": "74384974-b876-4ed8-f848-9ef5aeaf3c38",
    "scrolled": true
   },
   "outputs": [
    {
     "data": {
      "text/plain": [
       "PosixPath('Train/dataset_2/18-20/0.jpg')"
      ]
     },
     "execution_count": 12,
     "metadata": {},
     "output_type": "execute_result"
    }
   ],
   "source": [
    "train_df['file'][0]"
   ]
  },
  {
   "cell_type": "markdown",
   "metadata": {},
   "source": [
    "Combination of both datasets into one bigger dataset"
   ]
  },
  {
   "cell_type": "code",
   "execution_count": 13,
   "metadata": {
    "colab": {
     "base_uri": "https://localhost:8080/",
     "height": 206
    },
    "id": "j5OTJjqXLwIm",
    "outputId": "45cd1274-a4c3-4c25-ac3d-1fce98676bf9"
   },
   "outputs": [
    {
     "data": {
      "text/html": [
       "<div>\n",
       "<style scoped>\n",
       "    .dataframe tbody tr th:only-of-type {\n",
       "        vertical-align: middle;\n",
       "    }\n",
       "\n",
       "    .dataframe tbody tr th {\n",
       "        vertical-align: top;\n",
       "    }\n",
       "\n",
       "    .dataframe thead th {\n",
       "        text-align: right;\n",
       "    }\n",
       "</style>\n",
       "<table border=\"1\" class=\"dataframe\">\n",
       "  <thead>\n",
       "    <tr style=\"text-align: right;\">\n",
       "      <th></th>\n",
       "      <th>ID</th>\n",
       "      <th>Class</th>\n",
       "    </tr>\n",
       "  </thead>\n",
       "  <tbody>\n",
       "    <tr>\n",
       "      <th>0</th>\n",
       "      <td>377.jpg</td>\n",
       "      <td>MIDDLE</td>\n",
       "    </tr>\n",
       "    <tr>\n",
       "      <th>1</th>\n",
       "      <td>17814.jpg</td>\n",
       "      <td>YOUNG</td>\n",
       "    </tr>\n",
       "    <tr>\n",
       "      <th>2</th>\n",
       "      <td>21283.jpg</td>\n",
       "      <td>MIDDLE</td>\n",
       "    </tr>\n",
       "    <tr>\n",
       "      <th>3</th>\n",
       "      <td>16496.jpg</td>\n",
       "      <td>YOUNG</td>\n",
       "    </tr>\n",
       "    <tr>\n",
       "      <th>4</th>\n",
       "      <td>4487.jpg</td>\n",
       "      <td>MIDDLE</td>\n",
       "    </tr>\n",
       "  </tbody>\n",
       "</table>\n",
       "</div>"
      ],
      "text/plain": [
       "          ID   Class\n",
       "0    377.jpg  MIDDLE\n",
       "1  17814.jpg   YOUNG\n",
       "2  21283.jpg  MIDDLE\n",
       "3  16496.jpg   YOUNG\n",
       "4   4487.jpg  MIDDLE"
      ]
     },
     "execution_count": 13,
     "metadata": {},
     "output_type": "execute_result"
    }
   ],
   "source": [
    "data_1 = pd.read_csv('train.csv')\n",
    "data_1.head()\n"
   ]
  },
  {
   "cell_type": "code",
   "execution_count": 14,
   "metadata": {
    "colab": {
     "base_uri": "https://localhost:8080/",
     "height": 206
    },
    "id": "t9oKXqH2MkJ8",
    "outputId": "5df55334-72f4-4b00-842c-0b3d1f740b2f"
   },
   "outputs": [
    {
     "data": {
      "text/html": [
       "<div>\n",
       "<style scoped>\n",
       "    .dataframe tbody tr th:only-of-type {\n",
       "        vertical-align: middle;\n",
       "    }\n",
       "\n",
       "    .dataframe tbody tr th {\n",
       "        vertical-align: top;\n",
       "    }\n",
       "\n",
       "    .dataframe thead th {\n",
       "        text-align: right;\n",
       "    }\n",
       "</style>\n",
       "<table border=\"1\" class=\"dataframe\">\n",
       "  <thead>\n",
       "    <tr style=\"text-align: right;\">\n",
       "      <th></th>\n",
       "      <th>file</th>\n",
       "      <th>age</th>\n",
       "      <th>split</th>\n",
       "    </tr>\n",
       "  </thead>\n",
       "  <tbody>\n",
       "    <tr>\n",
       "      <th>0</th>\n",
       "      <td>train/18-20/0.jpg</td>\n",
       "      <td>18-20</td>\n",
       "      <td>train</td>\n",
       "    </tr>\n",
       "    <tr>\n",
       "      <th>1</th>\n",
       "      <td>train/18-20/1.jpg</td>\n",
       "      <td>18-20</td>\n",
       "      <td>train</td>\n",
       "    </tr>\n",
       "    <tr>\n",
       "      <th>2</th>\n",
       "      <td>train/18-20/2.jpg</td>\n",
       "      <td>18-20</td>\n",
       "      <td>train</td>\n",
       "    </tr>\n",
       "    <tr>\n",
       "      <th>3</th>\n",
       "      <td>train/18-20/3.jpg</td>\n",
       "      <td>18-20</td>\n",
       "      <td>train</td>\n",
       "    </tr>\n",
       "    <tr>\n",
       "      <th>4</th>\n",
       "      <td>train/18-20/4.jpg</td>\n",
       "      <td>18-20</td>\n",
       "      <td>train</td>\n",
       "    </tr>\n",
       "  </tbody>\n",
       "</table>\n",
       "</div>"
      ],
      "text/plain": [
       "                file    age  split\n",
       "0  train/18-20/0.jpg  18-20  train\n",
       "1  train/18-20/1.jpg  18-20  train\n",
       "2  train/18-20/2.jpg  18-20  train\n",
       "3  train/18-20/3.jpg  18-20  train\n",
       "4  train/18-20/4.jpg  18-20  train"
      ]
     },
     "execution_count": 14,
     "metadata": {},
     "output_type": "execute_result"
    }
   ],
   "source": [
    "data_2 = pd.read_csv('age_detection.csv')\n",
    "data_2.head()"
   ]
  },
  {
   "cell_type": "code",
   "execution_count": 15,
   "metadata": {
    "colab": {
     "base_uri": "https://localhost:8080/"
    },
    "id": "F1jUNetXOHKH",
    "outputId": "08d3f47d-9290-4cb1-f0fe-65ce74245261"
   },
   "outputs": [
    {
     "name": "stdout",
     "output_type": "stream",
     "text": [
      "                    ID    age  split  Class\n",
      "0    train/18-20/0.jpg  18-20  train  YOUNG\n",
      "1    train/18-20/1.jpg  18-20  train  YOUNG\n",
      "2    train/18-20/2.jpg  18-20  train  YOUNG\n",
      "3    train/18-20/3.jpg  18-20  train  YOUNG\n",
      "4    train/18-20/4.jpg  18-20  train  YOUNG\n",
      "..                 ...    ...    ...    ...\n",
      "145  test/51-60/25.jpg  51-60   test    OLD\n",
      "146  test/51-60/26.jpg  51-60   test    OLD\n",
      "147  test/51-60/27.jpg  51-60   test    OLD\n",
      "148  test/51-60/28.jpg  51-60   test    OLD\n",
      "149  test/51-60/29.jpg  51-60   test    OLD\n",
      "\n",
      "[150 rows x 4 columns]\n"
     ]
    }
   ],
   "source": [
    "data_2['Class'] = data_2['age'].apply(categorise_age)\n",
    "data_2.rename({'file':'ID'}, axis=1, inplace=True)\n",
    "print(data_2)"
   ]
  },
  {
   "cell_type": "code",
   "execution_count": 16,
   "metadata": {
    "colab": {
     "base_uri": "https://localhost:8080/"
    },
    "id": "UFNLuGIrPrkE",
    "outputId": "8e6c6092-2c41-4eb9-8a0f-af88d9459318"
   },
   "outputs": [
    {
     "name": "stdout",
     "output_type": "stream",
     "text": [
      "                    ID   Class    age split\n",
      "0              377.jpg  MIDDLE    NaN   NaN\n",
      "1            17814.jpg   YOUNG    NaN   NaN\n",
      "2            21283.jpg  MIDDLE    NaN   NaN\n",
      "3            16496.jpg   YOUNG    NaN   NaN\n",
      "4             4487.jpg  MIDDLE    NaN   NaN\n",
      "..                 ...     ...    ...   ...\n",
      "145  test/51-60/25.jpg     OLD  51-60  test\n",
      "146  test/51-60/26.jpg     OLD  51-60  test\n",
      "147  test/51-60/27.jpg     OLD  51-60  test\n",
      "148  test/51-60/28.jpg     OLD  51-60  test\n",
      "149  test/51-60/29.jpg     OLD  51-60  test\n",
      "\n",
      "[20056 rows x 4 columns]\n"
     ]
    }
   ],
   "source": [
    "combined_frames = [data_1, data_2]\n",
    "combined_data = pd.concat(combined_frames)\n",
    "print(combined_data)"
   ]
  },
  {
   "cell_type": "markdown",
   "metadata": {},
   "source": [
    "Calculation of naive baseline. \n",
    "\n",
    "The naive baseline in this case is used under the assumption of the model making the majority class prediction everytime. Therefore, the naive baseline is calculated to be 54.1%"
   ]
  },
  {
   "cell_type": "code",
   "execution_count": 17,
   "metadata": {
    "colab": {
     "base_uri": "https://localhost:8080/"
    },
    "id": "CqmaALPZVISm",
    "outputId": "a4171411-c17e-4cbf-da05-47c82a77edd9"
   },
   "outputs": [
    {
     "data": {
      "text/plain": [
       "Class\n",
       "MIDDLE    10864\n",
       "OLD        2426\n",
       "YOUNG      6766\n",
       "dtype: int64"
      ]
     },
     "execution_count": 17,
     "metadata": {},
     "output_type": "execute_result"
    }
   ],
   "source": [
    "counts = combined_data.groupby(['Class']).size()\n",
    "\n",
    "counts"
   ]
  },
  {
   "cell_type": "code",
   "execution_count": 18,
   "metadata": {
    "colab": {
     "base_uri": "https://localhost:8080/"
    },
    "id": "RuC4xau1VMnc",
    "outputId": "941533bb-60d6-4eff-e5bb-e88e079a5554"
   },
   "outputs": [
    {
     "name": "stdout",
     "output_type": "stream",
     "text": [
      "Naive Baseline Accuracy:  0.5416832867969685\n"
     ]
    }
   ],
   "source": [
    "total_instances = counts.sum()\n",
    "max_count = counts.max()\n",
    "\n",
    "naive_baseline = max_count/total_instances\n",
    "print(\"Naive Baseline Accuracy: \", naive_baseline)"
   ]
  },
  {
   "cell_type": "code",
   "execution_count": 19,
   "metadata": {
    "colab": {
     "base_uri": "https://localhost:8080/",
     "height": 522
    },
    "id": "_kFQh0GcSH70",
    "outputId": "dd1bbe2b-2659-45b7-e6f2-cde4d5a25be9"
   },
   "outputs": [
    {
     "name": "stderr",
     "output_type": "stream",
     "text": [
      "/tmp/ipykernel_35079/2929006080.py:1: FutureWarning: A value is trying to be set on a copy of a DataFrame or Series through chained assignment using an inplace method.\n",
      "The behavior will change in pandas 3.0. This inplace method will never work because the intermediate object on which we are setting values always behaves as a copy.\n",
      "\n",
      "For example, when doing 'df[col].method(value, inplace=True)', try using 'df.method({col: value}, inplace=True)' or df[col] = df[col].method(value) instead, to perform the operation inplace on the original object.\n",
      "\n",
      "\n",
      "  combined_data['Class'].replace(['YOUNG', 'MIDDLE', 'OLD'], [0, 1, 2], inplace=True)\n",
      "/tmp/ipykernel_35079/2929006080.py:1: FutureWarning: Downcasting behavior in `replace` is deprecated and will be removed in a future version. To retain the old behavior, explicitly call `result.infer_objects(copy=False)`. To opt-in to the future behavior, set `pd.set_option('future.no_silent_downcasting', True)`\n",
      "  combined_data['Class'].replace(['YOUNG', 'MIDDLE', 'OLD'], [0, 1, 2], inplace=True)\n"
     ]
    },
    {
     "data": {
      "text/html": [
       "<div>\n",
       "<style scoped>\n",
       "    .dataframe tbody tr th:only-of-type {\n",
       "        vertical-align: middle;\n",
       "    }\n",
       "\n",
       "    .dataframe tbody tr th {\n",
       "        vertical-align: top;\n",
       "    }\n",
       "\n",
       "    .dataframe thead th {\n",
       "        text-align: right;\n",
       "    }\n",
       "</style>\n",
       "<table border=\"1\" class=\"dataframe\">\n",
       "  <thead>\n",
       "    <tr style=\"text-align: right;\">\n",
       "      <th></th>\n",
       "      <th>ID</th>\n",
       "      <th>Class</th>\n",
       "      <th>age</th>\n",
       "      <th>split</th>\n",
       "    </tr>\n",
       "  </thead>\n",
       "  <tbody>\n",
       "    <tr>\n",
       "      <th>0</th>\n",
       "      <td>377.jpg</td>\n",
       "      <td>1</td>\n",
       "      <td>NaN</td>\n",
       "      <td>NaN</td>\n",
       "    </tr>\n",
       "    <tr>\n",
       "      <th>1</th>\n",
       "      <td>17814.jpg</td>\n",
       "      <td>0</td>\n",
       "      <td>NaN</td>\n",
       "      <td>NaN</td>\n",
       "    </tr>\n",
       "    <tr>\n",
       "      <th>2</th>\n",
       "      <td>21283.jpg</td>\n",
       "      <td>1</td>\n",
       "      <td>NaN</td>\n",
       "      <td>NaN</td>\n",
       "    </tr>\n",
       "    <tr>\n",
       "      <th>3</th>\n",
       "      <td>16496.jpg</td>\n",
       "      <td>0</td>\n",
       "      <td>NaN</td>\n",
       "      <td>NaN</td>\n",
       "    </tr>\n",
       "    <tr>\n",
       "      <th>4</th>\n",
       "      <td>4487.jpg</td>\n",
       "      <td>1</td>\n",
       "      <td>NaN</td>\n",
       "      <td>NaN</td>\n",
       "    </tr>\n",
       "    <tr>\n",
       "      <th>5</th>\n",
       "      <td>6283.jpg</td>\n",
       "      <td>1</td>\n",
       "      <td>NaN</td>\n",
       "      <td>NaN</td>\n",
       "    </tr>\n",
       "    <tr>\n",
       "      <th>6</th>\n",
       "      <td>23495.jpg</td>\n",
       "      <td>0</td>\n",
       "      <td>NaN</td>\n",
       "      <td>NaN</td>\n",
       "    </tr>\n",
       "    <tr>\n",
       "      <th>7</th>\n",
       "      <td>7100.jpg</td>\n",
       "      <td>0</td>\n",
       "      <td>NaN</td>\n",
       "      <td>NaN</td>\n",
       "    </tr>\n",
       "    <tr>\n",
       "      <th>8</th>\n",
       "      <td>6028.jpg</td>\n",
       "      <td>0</td>\n",
       "      <td>NaN</td>\n",
       "      <td>NaN</td>\n",
       "    </tr>\n",
       "    <tr>\n",
       "      <th>9</th>\n",
       "      <td>22617.jpg</td>\n",
       "      <td>2</td>\n",
       "      <td>NaN</td>\n",
       "      <td>NaN</td>\n",
       "    </tr>\n",
       "  </tbody>\n",
       "</table>\n",
       "</div>"
      ],
      "text/plain": [
       "          ID  Class  age split\n",
       "0    377.jpg      1  NaN   NaN\n",
       "1  17814.jpg      0  NaN   NaN\n",
       "2  21283.jpg      1  NaN   NaN\n",
       "3  16496.jpg      0  NaN   NaN\n",
       "4   4487.jpg      1  NaN   NaN\n",
       "5   6283.jpg      1  NaN   NaN\n",
       "6  23495.jpg      0  NaN   NaN\n",
       "7   7100.jpg      0  NaN   NaN\n",
       "8   6028.jpg      0  NaN   NaN\n",
       "9  22617.jpg      2  NaN   NaN"
      ]
     },
     "execution_count": 19,
     "metadata": {},
     "output_type": "execute_result"
    }
   ],
   "source": [
    "combined_data['Class'].replace(['YOUNG', 'MIDDLE', 'OLD'], [0, 1, 2], inplace=True)\n",
    "combined_data.head(10)"
   ]
  },
  {
   "cell_type": "code",
   "execution_count": 20,
   "metadata": {
    "colab": {
     "base_uri": "https://localhost:8080/",
     "height": 206
    },
    "id": "uEvTZLcXUqNa",
    "outputId": "10735900-7fcf-44ce-c683-fbca8ca2abf7"
   },
   "outputs": [
    {
     "data": {
      "text/html": [
       "<div>\n",
       "<style scoped>\n",
       "    .dataframe tbody tr th:only-of-type {\n",
       "        vertical-align: middle;\n",
       "    }\n",
       "\n",
       "    .dataframe tbody tr th {\n",
       "        vertical-align: top;\n",
       "    }\n",
       "\n",
       "    .dataframe thead th {\n",
       "        text-align: right;\n",
       "    }\n",
       "</style>\n",
       "<table border=\"1\" class=\"dataframe\">\n",
       "  <thead>\n",
       "    <tr style=\"text-align: right;\">\n",
       "      <th></th>\n",
       "      <th>ID</th>\n",
       "      <th>Class</th>\n",
       "    </tr>\n",
       "  </thead>\n",
       "  <tbody>\n",
       "    <tr>\n",
       "      <th>0</th>\n",
       "      <td>377.jpg</td>\n",
       "      <td>1</td>\n",
       "    </tr>\n",
       "    <tr>\n",
       "      <th>1</th>\n",
       "      <td>17814.jpg</td>\n",
       "      <td>0</td>\n",
       "    </tr>\n",
       "    <tr>\n",
       "      <th>2</th>\n",
       "      <td>21283.jpg</td>\n",
       "      <td>1</td>\n",
       "    </tr>\n",
       "    <tr>\n",
       "      <th>3</th>\n",
       "      <td>16496.jpg</td>\n",
       "      <td>0</td>\n",
       "    </tr>\n",
       "    <tr>\n",
       "      <th>4</th>\n",
       "      <td>4487.jpg</td>\n",
       "      <td>1</td>\n",
       "    </tr>\n",
       "  </tbody>\n",
       "</table>\n",
       "</div>"
      ],
      "text/plain": [
       "          ID  Class\n",
       "0    377.jpg      1\n",
       "1  17814.jpg      0\n",
       "2  21283.jpg      1\n",
       "3  16496.jpg      0\n",
       "4   4487.jpg      1"
      ]
     },
     "execution_count": 20,
     "metadata": {},
     "output_type": "execute_result"
    }
   ],
   "source": [
    "combined_data = combined_data.drop(columns=['age', 'split'], axis=1)\n",
    "combined_data.head()"
   ]
  },
  {
   "cell_type": "code",
   "execution_count": 21,
   "metadata": {
    "id": "ZOLmkcT6ezzh"
   },
   "outputs": [],
   "source": [
    "# pd.set_option(\"display.max_rows\", None)\n",
    "# print(combined_data)"
   ]
  },
  {
   "cell_type": "markdown",
   "metadata": {},
   "source": [
    "Function created to load the images for the second dataset"
   ]
  },
  {
   "cell_type": "code",
   "execution_count": 22,
   "metadata": {
    "id": "kS5J7q8GWVvk"
   },
   "outputs": [],
   "source": [
    "def load_data(image_path, label):\n",
    "    # Wrap readImages in tf.py_function to allow it to operate on tensors.\n",
    "    image = tf.py_function(readImages, [image_path], Tout=tf.float32)\n",
    "\n",
    "    # Ensure the image has the shape expected by your model.\n",
    "    image.set_shape((512, 512, 3))\n",
    "\n",
    "    return image, label\n",
    "\n",
    "# Updated readImages function signature to work with tf.py_function\n",
    "def readImages(path, ch=3, resize=(512, 512)):\n",
    "    path = path.numpy()  # Convert the tensor to a numpy array to extract the string value\n",
    "    if not isinstance(path, str):\n",
    "        path = path.decode('utf-8')  # Decode the numpy bytes to a string\n",
    "    kp = tf.io.read_file(path)\n",
    "    kp = tf.image.decode_jpeg(kp, channels=ch)\n",
    "    kp = tf.image.convert_image_dtype(kp, dtype=tf.float32)\n",
    "    kp = tf.image.resize(kp, resize)\n",
    "    return kp"
   ]
  },
  {
   "cell_type": "code",
   "execution_count": 23,
   "metadata": {
    "colab": {
     "base_uri": "https://localhost:8080/"
    },
    "id": "uDOdVXqoeie-",
    "outputId": "6aff7517-a43e-4872-e83b-ed73b7d05f2b"
   },
   "outputs": [
    {
     "name": "stdout",
     "output_type": "stream",
     "text": [
      "500\n",
      "<class 'pathlib.PosixPath'>\n"
     ]
    }
   ],
   "source": [
    "# Initializing image paths variables.\n",
    "image_paths = glob.glob('Train/*.jpg')\n",
    "image_paths = image_paths[0:500]\n",
    "print(len(image_paths))\n",
    "print(type(image_path))"
   ]
  },
  {
   "cell_type": "code",
   "execution_count": 24,
   "metadata": {
    "colab": {
     "base_uri": "https://localhost:8080/"
    },
    "id": "Xi-zl3C-fFHO",
    "outputId": "4ec17a9c-a6a0-4157-c85c-19665795c5d8"
   },
   "outputs": [
    {
     "name": "stdout",
     "output_type": "stream",
     "text": [
      "500\n",
      "[1, 2, 1, 1, 0, 1, 0, 0, 0, 2, 2, 0, 1, 1, 1, 2, 1, 1, 1, 0, 1, 1, 1, 0, 1, 1, 1, 1, 0, 0, 1, 2, 1, 0, 1, 1, 0, 1, 0, 0, 0, 1, 2, 0, 0, 1, 2, 1, 0, 2, 2, 1, 0, 0, 0, 1, 0, 1, 1, 0, 0, 1, 0, 1, 1, 1, 0, 1, 1, 1, 0, 0, 0, 1, 2, 1, 1, 1, 1, 0, 0, 0, 2, 0, 0, 0, 2, 1, 1, 0, 2, 1, 1, 2, 1, 0, 1, 0, 2, 2, 0, 0, 1, 1, 2, 1, 1, 1, 1, 0, 1, 1, 1, 1, 1, 0, 0, 0, 1, 2, 1, 1, 0, 1, 1, 1, 2, 1, 1, 1, 1, 1, 0, 0, 1, 2, 1, 0, 1, 1, 1, 1, 0, 1, 1, 1, 2, 1, 1, 0, 1, 1, 1, 2, 1, 0, 1, 0, 0, 1, 1, 1, 1, 1, 1, 1, 0, 1, 2, 1, 1, 1, 2, 1, 1, 1, 1, 1, 0, 0, 0, 1, 1, 0, 0, 1, 2, 1, 2, 1, 0, 0, 0, 2, 1, 1, 1, 0, 2, 0, 0, 2, 2, 0, 0, 0, 1, 0, 2, 1, 1, 0, 2, 1, 1, 1, 0, 1, 0, 1, 1, 1, 1, 1, 1, 0, 1, 1, 0, 0, 0, 0, 0, 1, 0, 1, 0, 0, 2, 0, 1, 1, 1, 2, 0, 1, 0, 0, 1, 1, 0, 1, 0, 2, 0, 1, 1, 1, 1, 0, 1, 0, 1, 2, 0, 0, 0, 2, 1, 1, 1, 1, 1, 1, 1, 1, 2, 0, 2, 1, 1, 0, 0, 0, 2, 1, 2, 1, 1, 1, 1, 2, 1, 1, 0, 2, 1, 1, 0, 1, 2, 1, 1, 0, 1, 1, 0, 0, 1, 1, 2, 1, 1, 0, 1, 0, 0, 1, 1, 1, 0, 1, 0, 0, 1, 1, 0, 0, 1, 2, 0, 2, 0, 0, 1, 1, 1, 0, 1, 0, 0, 1, 1, 0, 1, 1, 1, 1, 1, 0, 0, 0, 1, 0, 1, 0, 1, 0, 0, 0, 1, 0, 1, 0, 2, 2, 1, 1, 1, 1, 1, 1, 0, 1, 1, 1, 1, 1, 1, 0, 1, 1, 1, 0, 1, 1, 2, 0, 1, 0, 0, 1, 1, 1, 0, 1, 0, 0, 2, 1, 2, 0, 1, 1, 0, 0, 1, 0, 0, 0, 1, 1, 2, 1, 1, 1, 1, 1, 1, 0, 0, 0, 1, 1, 1, 1, 0, 1, 1, 0, 1, 0, 2, 1, 0, 0, 0, 0, 0, 1, 1, 0, 1, 1, 0, 0, 2, 0, 0, 1, 1, 0, 1, 1, 1, 1, 1, 0, 0, 0, 1, 1, 2, 1, 1, 0, 1, 1, 1, 1, 2, 0, 1, 1, 0, 1, 1, 0, 1, 0, 0, 1, 1, 0, 0, 1, 2, 0, 1, 0, 0, 1, 0, 2, 1, 1, 1, 0, 0, 1]\n"
     ]
    }
   ],
   "source": [
    "# Initialize label values\n",
    "labels = []\n",
    "for i in image_paths:\n",
    "    _,tail = os.path.split(i)\n",
    "    label = combined_data.loc[combined_data['ID'] == tail]['Class'].values[0]\n",
    "    labels.append(label)\n",
    "print(len(labels))\n",
    "print(labels)"
   ]
  },
  {
   "cell_type": "code",
   "execution_count": 25,
   "metadata": {
    "id": "RS_ah3V8fNnZ"
   },
   "outputs": [],
   "source": [
    "# train_1_df = pd.DataFrame({'file' : image_paths, 'label' : labels})\n",
    "# train_1_df.head()"
   ]
  },
  {
   "cell_type": "code",
   "execution_count": 26,
   "metadata": {
    "id": "YFcgireghe7J"
   },
   "outputs": [],
   "source": [
    "# combined_df = pd.concat([train_df, train_1_df], axis=0).reset_index(drop=True)"
   ]
  },
  {
   "cell_type": "code",
   "execution_count": 27,
   "metadata": {
    "id": "1gtR_gnBhj_x"
   },
   "outputs": [],
   "source": [
    "# combined_df.head()"
   ]
  },
  {
   "cell_type": "markdown",
   "metadata": {},
   "source": [
    "Creation of train, test and validation sets"
   ]
  },
  {
   "cell_type": "code",
   "execution_count": 28,
   "metadata": {
    "colab": {
     "base_uri": "https://localhost:8080/"
    },
    "id": "pSEb1fZWhzRK",
    "outputId": "3d5fe27f-a2e3-468a-e7cc-9b1535ada83a"
   },
   "outputs": [
    {
     "name": "stderr",
     "output_type": "stream",
     "text": [
      "2024-03-08 19:09:05.890853: I external/local_xla/xla/stream_executor/cuda/cuda_executor.cc:887] could not open file to read NUMA node: /sys/bus/pci/devices/0000:2d:00.0/numa_node\n",
      "Your kernel may have been built without NUMA support.\n",
      "2024-03-08 19:09:05.894658: I external/local_xla/xla/stream_executor/cuda/cuda_executor.cc:887] could not open file to read NUMA node: /sys/bus/pci/devices/0000:2d:00.0/numa_node\n",
      "Your kernel may have been built without NUMA support.\n",
      "2024-03-08 19:09:05.894683: I external/local_xla/xla/stream_executor/cuda/cuda_executor.cc:887] could not open file to read NUMA node: /sys/bus/pci/devices/0000:2d:00.0/numa_node\n",
      "Your kernel may have been built without NUMA support.\n",
      "2024-03-08 19:09:05.895577: I external/local_xla/xla/stream_executor/cuda/cuda_executor.cc:887] could not open file to read NUMA node: /sys/bus/pci/devices/0000:2d:00.0/numa_node\n",
      "Your kernel may have been built without NUMA support.\n",
      "2024-03-08 19:09:05.895606: I external/local_xla/xla/stream_executor/cuda/cuda_executor.cc:887] could not open file to read NUMA node: /sys/bus/pci/devices/0000:2d:00.0/numa_node\n",
      "Your kernel may have been built without NUMA support.\n",
      "2024-03-08 19:09:05.895622: I external/local_xla/xla/stream_executor/cuda/cuda_executor.cc:887] could not open file to read NUMA node: /sys/bus/pci/devices/0000:2d:00.0/numa_node\n",
      "Your kernel may have been built without NUMA support.\n",
      "2024-03-08 19:09:06.070708: I external/local_xla/xla/stream_executor/cuda/cuda_executor.cc:887] could not open file to read NUMA node: /sys/bus/pci/devices/0000:2d:00.0/numa_node\n",
      "Your kernel may have been built without NUMA support.\n",
      "2024-03-08 19:09:06.070745: I external/local_xla/xla/stream_executor/cuda/cuda_executor.cc:887] could not open file to read NUMA node: /sys/bus/pci/devices/0000:2d:00.0/numa_node\n",
      "Your kernel may have been built without NUMA support.\n",
      "2024-03-08 19:09:06.070751: I tensorflow/core/common_runtime/gpu/gpu_device.cc:2022] Could not identify NUMA node of platform GPU id 0, defaulting to 0.  Your kernel may not have been built with NUMA support.\n",
      "2024-03-08 19:09:06.070774: I external/local_xla/xla/stream_executor/cuda/cuda_executor.cc:887] could not open file to read NUMA node: /sys/bus/pci/devices/0000:2d:00.0/numa_node\n",
      "Your kernel may have been built without NUMA support.\n",
      "2024-03-08 19:09:06.070788: I tensorflow/core/common_runtime/gpu/gpu_device.cc:1929] Created device /job:localhost/replica:0/task:0/device:GPU:0 with 9536 MB memory:  -> device: 0, name: NVIDIA GeForce RTX 3080 Ti, pci bus id: 0000:2d:00.0, compute capability: 8.6\n"
     ]
    }
   ],
   "source": [
    "# Create Train, Test, and Validation datasets\n",
    "train_size = int(0.8*(len(image_paths)))\n",
    "test_size = 20\n",
    "\n",
    "train_set = tf.data.Dataset.from_tensor_slices((image_paths[:train_size], labels[:train_size]))\n",
    "test_set = tf.data.Dataset.from_tensor_slices((image_paths[train_size:train_size + test_size], labels[train_size :train_size + test_size]))\n",
    "vali_set = tf.data.Dataset.from_tensor_slices((image_paths[train_size + test_size:], labels[train_size + test_size:]))"
   ]
  },
  {
   "cell_type": "code",
   "execution_count": 29,
   "metadata": {
    "colab": {
     "base_uri": "https://localhost:8080/"
    },
    "id": "p6piyJdfluoJ",
    "outputId": "d4250e99-5b8a-4752-9e53-db8e03879045"
   },
   "outputs": [
    {
     "name": "stdout",
     "output_type": "stream",
     "text": [
      "Total IDs: 20056\n",
      "Total Image Paths: 500\n",
      "Total Labels: 500\n"
     ]
    }
   ],
   "source": [
    "print(f\"Total IDs: {len(combined_data['ID'])}\")\n",
    "print(f\"Total Image Paths: {len(image_paths)}\")\n",
    "print(f\"Total Labels: {len(labels)}\")"
   ]
  },
  {
   "cell_type": "code",
   "execution_count": 30,
   "metadata": {
    "colab": {
     "base_uri": "https://localhost:8080/"
    },
    "id": "FoM017HylPRI",
    "outputId": "eb2b1ae8-be21-4743-8ea6-fd85c69e3230"
   },
   "outputs": [
    {
     "name": "stdout",
     "output_type": "stream",
     "text": [
      "400\n"
     ]
    }
   ],
   "source": [
    "print(train_size)"
   ]
  },
  {
   "cell_type": "code",
   "execution_count": 31,
   "metadata": {
    "colab": {
     "base_uri": "https://localhost:8080/"
    },
    "id": "juqRHEufkbOe",
    "outputId": "da4b1640-0781-4418-bb84-ad4950a9930b"
   },
   "outputs": [
    {
     "name": "stdout",
     "output_type": "stream",
     "text": [
      "Train set size: 400\n",
      "Test set size: 20\n",
      "Validation set size: 80\n"
     ]
    }
   ],
   "source": [
    "print(\"Train set size:\", train_set.cardinality().numpy())\n",
    "print(\"Test set size:\", test_set.cardinality().numpy())\n",
    "print(\"Validation set size:\", vali_set.cardinality().numpy())"
   ]
  },
  {
   "cell_type": "markdown",
   "metadata": {},
   "source": [
    "Data augmentation done on the train, test and validation sets"
   ]
  },
  {
   "cell_type": "code",
   "execution_count": 32,
   "metadata": {
    "colab": {
     "base_uri": "https://localhost:8080/"
    },
    "id": "l0kWH3Z_h9o6",
    "outputId": "3bd361ce-6052-44a7-9b59-6f3afd4e30ee"
   },
   "outputs": [
    {
     "name": "stdout",
     "output_type": "stream",
     "text": [
      "<_PrefetchDataset element_spec=(TensorSpec(shape=(None, 512, 512, 3), dtype=tf.float32, name=None), TensorSpec(shape=(None,), dtype=tf.int32, name=None))>\n"
     ]
    }
   ],
   "source": [
    "AUTOTUNE = tf.data.AUTOTUNE\n",
    "train_set = (train_set\n",
    "    .map(load_data, num_parallel_calls=AUTOTUNE)\n",
    "    .batch(64)\n",
    "    .prefetch(AUTOTUNE)\n",
    ")\n",
    "print(train_set)\n"
   ]
  },
  {
   "cell_type": "code",
   "execution_count": 33,
   "metadata": {
    "id": "p4dPJRE5iDAQ"
   },
   "outputs": [],
   "source": [
    "train_set = train_set.map(\n",
    "    lambda image, label: (tf.image.random_flip_left_right(image), label)\n",
    ").cache(\n",
    ").map(\n",
    "    lambda image, label: (tf.image.per_image_standardization(image), label)\n",
    ").map(\n",
    "    lambda image, label: (tf.image.random_contrast(image, lower=0.4, upper=0.6), label)\n",
    ").map(\n",
    "    lambda image, label: (tf.image.random_brightness(image, max_delta = 0.4), label)\n",
    ").map(\n",
    "    lambda image, label: (tf.image.random_hue(image, max_delta = 0.4), label)\n",
    ").map(\n",
    "    lambda image, label: (tf.image.random_saturation(image, lower=0.4, upper=0.6), label)\n",
    ").shuffle(\n",
    "    1000\n",
    ").repeat(2)"
   ]
  },
  {
   "cell_type": "code",
   "execution_count": 34,
   "metadata": {
    "id": "6iTyepdPiFY2"
   },
   "outputs": [],
   "source": [
    "AUTOTUNE = tf.data.AUTOTUNE\n",
    "vali_set = (vali_set\n",
    "    .map(load_data, num_parallel_calls=AUTOTUNE)\n",
    "    .batch(64)\n",
    "    .prefetch(AUTOTUNE)\n",
    ")"
   ]
  },
  {
   "cell_type": "code",
   "execution_count": 35,
   "metadata": {
    "id": "gxiJb1GiiJAX"
   },
   "outputs": [],
   "source": [
    "# Adding data agumentation to validation images.\n",
    "vali_set = vali_set.map(\n",
    "    lambda image, label: (tf.image.random_flip_left_right(image), label)\n",
    ").cache(\n",
    ").map(\n",
    "    lambda image, label: (tf.image.per_image_standardization(image), label)\n",
    ").map(\n",
    "    lambda image, label: (tf.image.random_contrast(image, lower=0.4, upper=0.6), label)\n",
    ").map(\n",
    "    lambda image, label: (tf.image.random_brightness(image, max_delta = 0.4), label)\n",
    ").map(\n",
    "    lambda image, label: (tf.image.random_hue(image, max_delta = 0.4), label)\n",
    ").map(\n",
    "    lambda image, label: (tf.image.random_saturation(image, lower=0.4, upper=0.6), label)\n",
    ").shuffle(\n",
    "    1000\n",
    ").repeat(2)"
   ]
  },
  {
   "cell_type": "code",
   "execution_count": 36,
   "metadata": {
    "id": "lHyveQJIjo5o"
   },
   "outputs": [],
   "source": [
    "test_set = (test_set\n",
    "    .map(load_data, num_parallel_calls=AUTOTUNE)\n",
    "    .batch(64)\n",
    "    .prefetch(AUTOTUNE)\n",
    ")"
   ]
  },
  {
   "cell_type": "code",
   "execution_count": 37,
   "metadata": {
    "id": "r6zsyTFqjr5T"
   },
   "outputs": [],
   "source": [
    "# Standardizing the test data.\n",
    "test_set = test_set.map(\n",
    "    lambda image, label: (tf.image.per_image_standardization(image), label)\n",
    ")"
   ]
  },
  {
   "cell_type": "markdown",
   "metadata": {},
   "source": [
    "### Creation of model 1\n",
    "\n",
    "model_1 makes use of tensorflow keras MobileNetV3Large pre-trained model, adds custom layers to it and trains it further using the dataset that have been created.\n"
   ]
  },
  {
   "cell_type": "code",
   "execution_count": 38,
   "metadata": {
    "colab": {
     "base_uri": "https://localhost:8080/"
    },
    "id": "HzLPN3p3kwdB",
    "outputId": "97267e26-e321-47de-fff8-0539b0be498a"
   },
   "outputs": [
    {
     "name": "stdout",
     "output_type": "stream",
     "text": [
      "WARNING:tensorflow:`input_shape` is undefined or non-square, or `rows` is not 224. Weights for input shape (224, 224) will be loaded as the default.\n"
     ]
    }
   ],
   "source": [
    "# Pre-trained models is used here\n",
    "# training from scratch requires loads of time and computational power\n",
    "preprocess_input = tf.keras.applications.mobilenet_v3.preprocess_input\n",
    "model = tf.keras.applications.MobileNetV3Large(input_shape = (512,512,3,),include_top=False,weights='imagenet')\n",
    "# model.summary()"
   ]
  },
  {
   "cell_type": "code",
   "execution_count": 39,
   "metadata": {
    "colab": {
     "base_uri": "https://localhost:8080/"
    },
    "id": "9ZoHmznwmJxJ",
    "outputId": "044ff0ef-a728-43fa-c781-74830b75c02c"
   },
   "outputs": [
    {
     "name": "stdout",
     "output_type": "stream",
     "text": [
      "Model: \"model_1\"\n",
      "_________________________________________________________________\n",
      " Layer (type)                Output Shape              Param #   \n",
      "=================================================================\n",
      " input_2 (InputLayer)        [(None, 512, 512, 3)]     0         \n",
      "                                                                 \n",
      " MobilenetV3large (Function  (None, 16, 16, 960)       2996352   \n",
      " al)                                                             \n",
      "                                                                 \n",
      " global_average_pooling2d (  (None, 960)               0         \n",
      " GlobalAveragePooling2D)                                         \n",
      "                                                                 \n",
      " flatten (Flatten)           (None, 960)               0         \n",
      "                                                                 \n",
      " dense (Dense)               (None, 1000)              961000    \n",
      "                                                                 \n",
      " batch_normalization (Batch  (None, 1000)              4000      \n",
      " Normalization)                                                  \n",
      "                                                                 \n",
      " dense_1 (Dense)             (None, 600)               600600    \n",
      "                                                                 \n",
      " batch_normalization_1 (Bat  (None, 600)               2400      \n",
      " chNormalization)                                                \n",
      "                                                                 \n",
      " dropout (Dropout)           (None, 600)               0         \n",
      "                                                                 \n",
      " dense_2 (Dense)             (None, 400)               240400    \n",
      "                                                                 \n",
      " batch_normalization_2 (Bat  (None, 400)               1600      \n",
      " chNormalization)                                                \n",
      "                                                                 \n",
      " dense_3 (Dense)             (None, 100)               40100     \n",
      "                                                                 \n",
      " batch_normalization_3 (Bat  (None, 100)               400       \n",
      " chNormalization)                                                \n",
      "                                                                 \n",
      " dropout_1 (Dropout)         (None, 100)               0         \n",
      "                                                                 \n",
      " dense_4 (Dense)             (None, 50)                5050      \n",
      "                                                                 \n",
      " batch_normalization_4 (Bat  (None, 50)                200       \n",
      " chNormalization)                                                \n",
      "                                                                 \n",
      " dense_5 (Dense)             (None, 50)                2550      \n",
      "                                                                 \n",
      " batch_normalization_5 (Bat  (None, 50)                200       \n",
      " chNormalization)                                                \n",
      "                                                                 \n",
      " dense_6 (Dense)             (None, 20)                1020      \n",
      "                                                                 \n",
      " dense_7 (Dense)             (None, 20)                420       \n",
      "                                                                 \n",
      " dense_8 (Dense)             (None, 3)                 63        \n",
      "                                                                 \n",
      "=================================================================\n",
      "Total params: 4856355 (18.53 MB)\n",
      "Trainable params: 1855603 (7.08 MB)\n",
      "Non-trainable params: 3000752 (11.45 MB)\n",
      "_________________________________________________________________\n"
     ]
    }
   ],
   "source": [
    "#  prevents changing weights of pre-trained model.\n",
    "model.trainable = False\n",
    "\n",
    "# Custom layers to be added\n",
    "inputs = tf.keras.Input(shape=(512, 512, 3))\n",
    "x = preprocess_input(inputs)\n",
    "x = model(x, training=True)\n",
    "x = tf.keras.layers.GlobalAveragePooling2D()(x)\n",
    "x = Flatten()(x)\n",
    "x = Dense(1000)(x)\n",
    "x = BatchNormalization()(x)\n",
    "x = Dense(600)(x)\n",
    "x = BatchNormalization()(x)\n",
    "x = Dropout(0.2)(x)\n",
    "x = Dense(400)(x)\n",
    "x = BatchNormalization()(x)\n",
    "x = Dense(100)(x)\n",
    "x = BatchNormalization()(x)\n",
    "x = Dropout(0.2)(x)\n",
    "x = Dense(50)(x)\n",
    "x = BatchNormalization()(x)\n",
    "x = Dense(50)(x)\n",
    "x = BatchNormalization()(x)\n",
    "x = Dense(20)(x)\n",
    "x = Dense(20, activation=\"softmax\")(x)\n",
    "outputs = Dense(3)(x)\n",
    "model = tf.keras.Model(inputs, outputs, name='model_1')\n",
    "model.summary()"
   ]
  },
  {
   "cell_type": "code",
   "execution_count": 40,
   "metadata": {
    "id": "uMJxjAZnmLqr"
   },
   "outputs": [],
   "source": [
    "# Compiling the model\n",
    "model.compile(optimizer=tf.keras.optimizers.Adam(),\n",
    "              loss=tf.keras.losses.SparseCategoricalCrossentropy(from_logits=True),\n",
    "              metrics=['accuracy'])"
   ]
  },
  {
   "cell_type": "markdown",
   "metadata": {},
   "source": [
    "### training the model_1 for 30 epochs"
   ]
  },
  {
   "cell_type": "code",
   "execution_count": 42,
   "metadata": {
    "colab": {
     "base_uri": "https://localhost:8080/"
    },
    "id": "EAqAoUflmPcP",
    "outputId": "01875efd-d029-4975-f55b-9e319eea431a",
    "scrolled": false
   },
   "outputs": [
    {
     "name": "stdout",
     "output_type": "stream",
     "text": [
      "Epoch 1/30\n"
     ]
    },
    {
     "name": "stderr",
     "output_type": "stream",
     "text": [
      "2024-03-08 19:09:15.732228: I external/local_xla/xla/stream_executor/cuda/cuda_dnn.cc:454] Loaded cuDNN version 8906\n",
      "2024-03-08 19:09:16.701868: I external/local_xla/xla/service/service.cc:168] XLA service 0x7f5f46622c10 initialized for platform CUDA (this does not guarantee that XLA will be used). Devices:\n",
      "2024-03-08 19:09:16.701892: I external/local_xla/xla/service/service.cc:176]   StreamExecutor device (0): NVIDIA GeForce RTX 3080 Ti, Compute Capability 8.6\n",
      "2024-03-08 19:09:16.705154: I tensorflow/compiler/mlir/tensorflow/utils/dump_mlir_util.cc:269] disabling MLIR crash reproducer, set env var `MLIR_CRASH_REPRODUCER_DIRECTORY` to enable.\n",
      "WARNING: All log messages before absl::InitializeLog() is called are written to STDERR\n",
      "I0000 00:00:1709924956.753830   35169 device_compiler.h:186] Compiled cluster using XLA!  This line is logged at most once for the lifetime of the process.\n"
     ]
    },
    {
     "name": "stdout",
     "output_type": "stream",
     "text": [
      "14/14 [==============================] - 14s 359ms/step - loss: 1.0465 - accuracy: 0.5113 - val_loss: 0.9661 - val_accuracy: 0.5125\n",
      "Epoch 2/30\n",
      "14/14 [==============================] - 7s 236ms/step - loss: 0.9886 - accuracy: 0.6187 - val_loss: 0.9485 - val_accuracy: 0.5125\n",
      "Epoch 3/30\n",
      "14/14 [==============================] - 7s 233ms/step - loss: 0.9540 - accuracy: 0.6263 - val_loss: 0.9468 - val_accuracy: 0.5125\n",
      "Epoch 4/30\n",
      "14/14 [==============================] - 7s 236ms/step - loss: 0.9355 - accuracy: 0.6438 - val_loss: 0.9461 - val_accuracy: 0.5125\n",
      "Epoch 5/30\n",
      "14/14 [==============================] - 7s 239ms/step - loss: 0.9137 - accuracy: 0.6600 - val_loss: 0.9457 - val_accuracy: 0.5125\n",
      "Epoch 6/30\n",
      "14/14 [==============================] - 7s 242ms/step - loss: 0.8959 - accuracy: 0.6675 - val_loss: 1.0697 - val_accuracy: 0.5188\n",
      "Epoch 7/30\n",
      "14/14 [==============================] - 7s 234ms/step - loss: 0.8719 - accuracy: 0.6938 - val_loss: 0.9422 - val_accuracy: 0.5125\n",
      "Epoch 8/30\n",
      "14/14 [==============================] - 7s 233ms/step - loss: 0.8613 - accuracy: 0.6850 - val_loss: 0.9523 - val_accuracy: 0.5125\n",
      "Epoch 9/30\n",
      "14/14 [==============================] - 7s 229ms/step - loss: 0.8464 - accuracy: 0.7138 - val_loss: 0.9477 - val_accuracy: 0.5125\n",
      "Epoch 10/30\n",
      "14/14 [==============================] - 7s 233ms/step - loss: 0.8419 - accuracy: 0.6925 - val_loss: 0.9528 - val_accuracy: 0.5125\n",
      "Epoch 11/30\n",
      "14/14 [==============================] - 7s 233ms/step - loss: 0.8290 - accuracy: 0.6988 - val_loss: 0.9519 - val_accuracy: 0.5125\n",
      "Epoch 12/30\n",
      "14/14 [==============================] - 7s 236ms/step - loss: 0.8002 - accuracy: 0.7275 - val_loss: 0.9539 - val_accuracy: 0.5125\n",
      "Epoch 13/30\n",
      "14/14 [==============================] - 7s 235ms/step - loss: 0.7846 - accuracy: 0.7300 - val_loss: 0.9565 - val_accuracy: 0.5125\n",
      "Epoch 14/30\n",
      "14/14 [==============================] - 7s 237ms/step - loss: 0.7620 - accuracy: 0.7563 - val_loss: 0.9597 - val_accuracy: 0.5125\n",
      "Epoch 15/30\n",
      "14/14 [==============================] - 7s 235ms/step - loss: 0.7473 - accuracy: 0.7675 - val_loss: 0.9615 - val_accuracy: 0.5125\n",
      "Epoch 16/30\n",
      "14/14 [==============================] - 7s 238ms/step - loss: 0.7339 - accuracy: 0.7738 - val_loss: 1.1260 - val_accuracy: 0.4187\n",
      "Epoch 17/30\n",
      "14/14 [==============================] - 7s 237ms/step - loss: 0.7369 - accuracy: 0.7675 - val_loss: 0.9708 - val_accuracy: 0.5125\n",
      "Epoch 18/30\n",
      "14/14 [==============================] - 7s 233ms/step - loss: 0.7254 - accuracy: 0.7675 - val_loss: 0.9588 - val_accuracy: 0.5125\n",
      "Epoch 19/30\n",
      "14/14 [==============================] - 7s 235ms/step - loss: 0.7240 - accuracy: 0.7588 - val_loss: 0.9435 - val_accuracy: 0.5437\n",
      "Epoch 20/30\n",
      "14/14 [==============================] - 7s 235ms/step - loss: 0.7169 - accuracy: 0.7725 - val_loss: 1.1383 - val_accuracy: 0.4187\n",
      "Epoch 21/30\n",
      "14/14 [==============================] - 7s 235ms/step - loss: 0.7285 - accuracy: 0.7525 - val_loss: 0.9641 - val_accuracy: 0.5125\n",
      "Epoch 22/30\n",
      "14/14 [==============================] - 7s 231ms/step - loss: 0.7072 - accuracy: 0.7650 - val_loss: 0.9861 - val_accuracy: 0.5125\n",
      "Epoch 23/30\n",
      "14/14 [==============================] - 7s 245ms/step - loss: 0.7100 - accuracy: 0.7600 - val_loss: 0.9946 - val_accuracy: 0.5125\n",
      "Epoch 24/30\n",
      "14/14 [==============================] - 7s 238ms/step - loss: 0.6809 - accuracy: 0.7887 - val_loss: 0.9997 - val_accuracy: 0.5125\n",
      "Epoch 25/30\n",
      "14/14 [==============================] - 7s 242ms/step - loss: 0.6796 - accuracy: 0.7825 - val_loss: 0.8894 - val_accuracy: 0.5500\n",
      "Epoch 26/30\n",
      "14/14 [==============================] - 7s 234ms/step - loss: 0.6513 - accuracy: 0.7937 - val_loss: 1.1815 - val_accuracy: 0.4125\n",
      "Epoch 27/30\n",
      "14/14 [==============================] - 7s 237ms/step - loss: 0.6639 - accuracy: 0.7825 - val_loss: 0.9775 - val_accuracy: 0.5125\n",
      "Epoch 28/30\n",
      "14/14 [==============================] - 7s 235ms/step - loss: 0.6571 - accuracy: 0.7937 - val_loss: 0.9645 - val_accuracy: 0.5500\n",
      "Epoch 29/30\n",
      "14/14 [==============================] - 7s 233ms/step - loss: 0.6817 - accuracy: 0.7700 - val_loss: 1.0199 - val_accuracy: 0.5125\n",
      "Epoch 30/30\n",
      "14/14 [==============================] - 7s 236ms/step - loss: 0.6420 - accuracy: 0.7962 - val_loss: 0.9890 - val_accuracy: 0.5375\n"
     ]
    }
   ],
   "source": [
    "# Training the model\n",
    "history = model.fit(train_set, epochs=30, validation_data=vali_set)"
   ]
  },
  {
   "cell_type": "markdown",
   "metadata": {},
   "source": [
    "Training results of model_1"
   ]
  },
  {
   "cell_type": "code",
   "execution_count": 43,
   "metadata": {
    "colab": {
     "base_uri": "https://localhost:8080/",
     "height": 472
    },
    "id": "YPfXITevmjbX",
    "outputId": "4c87b60f-0a72-4c56-c932-ba038837f712"
   },
   "outputs": [
    {
     "data": {
      "image/png": "[encoded data removed]",
      "text/plain": [
       "<Figure size 640x480 with 1 Axes>"
      ]
     },
     "metadata": {},
     "output_type": "display_data"
    }
   ],
   "source": [
    "# Plotting the train results.\n",
    "plt.plot(history.history['accuracy'])\n",
    "plt.plot(history.history['loss'])\n",
    "plt.title('accuracy')\n",
    "plt.ylabel('accuracy')\n",
    "plt.xlabel('epoch')\n",
    "plt.legend(['accuracy', 'Loss'], loc='upper left')\n",
    "plt.show()"
   ]
  },
  {
   "cell_type": "code",
   "execution_count": 44,
   "metadata": {
    "colab": {
     "base_uri": "https://localhost:8080/"
    },
    "id": "U7qQ1SEQNUWL",
    "outputId": "14f17660-5094-4c0d-ccf9-36b9df5c3777"
   },
   "outputs": [
    {
     "name": "stdout",
     "output_type": "stream",
     "text": [
      "1/1 [==============================] - 1s 775ms/step\n",
      "[2, 0, 1, 1, 0, 0, 1, 0, 0, 0, 1, 1, 2, 1, 1, 1, 1, 1, 1, 0]\n",
      "[1 1 1 1 0 1 1 1 1 1 1 1 1 1 1 1 1 1 1 1]\n"
     ]
    }
   ],
   "source": [
    "# Predict probabilites of test data.\n",
    "probabilities = model.predict(test_set)\n",
    "# print(probabilities)\n",
    "# Create classes from predictions\n",
    "predictions = np.argmax(probabilities,axis=1)\n",
    "actual_values = labels[train_size :train_size + test_size]\n",
    "print(actual_values)\n",
    "print(predictions)"
   ]
  },
  {
   "cell_type": "code",
   "execution_count": 45,
   "metadata": {
    "colab": {
     "base_uri": "https://localhost:8080/"
    },
    "id": "WfNBpIgVNWqK",
    "outputId": "1a963d01-a195-42bb-a32d-8facf37cea65",
    "scrolled": true
   },
   "outputs": [
    {
     "name": "stdout",
     "output_type": "stream",
     "text": [
      "balanced accuracy:   0.381\n",
      "accuracy:   0.600\n"
     ]
    }
   ],
   "source": [
    "print(\"balanced accuracy:   %0.3f\" % metrics.balanced_accuracy_score(actual_values, predictions))\n",
    "print(\"accuracy:   %0.3f\" % metrics.accuracy_score(actual_values, predictions))"
   ]
  },
  {
   "cell_type": "markdown",
   "metadata": {},
   "source": [
    "The functions below are created to aid in the evaluation of the model by calculating and printing out the scores."
   ]
  },
  {
   "cell_type": "code",
   "execution_count": 46,
   "metadata": {
    "id": "-zX-y9FejL2q"
   },
   "outputs": [],
   "source": [
    "from tensorflow.keras.metrics import Precision, Recall\n",
    "from sklearn.metrics import confusion_matrix, classification_report, roc_curve, auc\n",
    "import numpy as np\n",
    "import matplotlib.pyplot as plt"
   ]
  },
  {
   "cell_type": "code",
   "execution_count": 47,
   "metadata": {
    "colab": {
     "base_uri": "https://localhost:8080/"
    },
    "id": "worK7s503n-D",
    "outputId": "e560a590-4802-4f92-fda6-f4e74ff92973"
   },
   "outputs": [
    {
     "name": "stdout",
     "output_type": "stream",
     "text": [
      "1/1 [==============================] - 1s 585ms/step\n",
      "Confusion Matrix:\n",
      " [[ 1  6  0]\n",
      " [ 0 11  0]\n",
      " [ 0  2  0]]\n",
      "\n",
      "Classification Report:\n",
      "               precision    recall  f1-score   support\n",
      "\n",
      "           0       1.00      0.14      0.25         7\n",
      "           1       0.58      1.00      0.73        11\n",
      "           2       0.00      0.00      0.00         2\n",
      "\n",
      "    accuracy                           0.60        20\n",
      "   macro avg       0.53      0.38      0.33        20\n",
      "weighted avg       0.67      0.60      0.49        20\n",
      "\n",
      "Accuracy: 60.00%\n"
     ]
    },
    {
     "name": "stderr",
     "output_type": "stream",
     "text": [
      "/usr/local/lib/python3.11/dist-packages/sklearn/metrics/_classification.py:1509: UndefinedMetricWarning: Precision is ill-defined and being set to 0.0 in labels with no predicted samples. Use `zero_division` parameter to control this behavior.\n",
      "  _warn_prf(average, modifier, f\"{metric.capitalize()} is\", len(result))\n",
      "/usr/local/lib/python3.11/dist-packages/sklearn/metrics/_classification.py:1509: UndefinedMetricWarning: Precision is ill-defined and being set to 0.0 in labels with no predicted samples. Use `zero_division` parameter to control this behavior.\n",
      "  _warn_prf(average, modifier, f\"{metric.capitalize()} is\", len(result))\n",
      "/usr/local/lib/python3.11/dist-packages/sklearn/metrics/_classification.py:1509: UndefinedMetricWarning: Precision is ill-defined and being set to 0.0 in labels with no predicted samples. Use `zero_division` parameter to control this behavior.\n",
      "  _warn_prf(average, modifier, f\"{metric.capitalize()} is\", len(result))\n"
     ]
    }
   ],
   "source": [
    "def extract_labels(test_set):\n",
    "    all_labels = []\n",
    "    for images, labels in test_set:\n",
    "        all_labels.extend(labels.numpy())\n",
    "    return np.array(all_labels)\n",
    "\n",
    "# Making predictions with the test set\n",
    "# Note: predictions is accumlated batch by batch\n",
    "y_pred = []\n",
    "for x, _ in test_set:\n",
    "    predictions = model.predict(x)\n",
    "    predicted_classes = np.argmax(predictions, axis=1)\n",
    "    y_pred.extend(predicted_classes)\n",
    "y_pred = np.array(y_pred)\n",
    "\n",
    "# Extracting true labels from the test set\n",
    "true_labels = extract_labels(test_set)\n",
    "\n",
    "# Computing the confusion matrix\n",
    "conf_matrix = confusion_matrix(true_labels, y_pred)\n",
    "print(\"Confusion Matrix:\\n\", conf_matrix)\n",
    "\n",
    "# Classification report for precision, recall, f1-score\n",
    "print(\"\\nClassification Report:\\n\", classification_report(true_labels, y_pred))\n",
    "\n",
    "# Accuracy\n",
    "accuracy = np.mean(y_pred == true_labels)\n",
    "print(\"Accuracy: {:.2f}%\".format(accuracy * 100))"
   ]
  },
  {
   "cell_type": "code",
   "execution_count": 47,
   "metadata": {
    "id": "1qVooLQB22I2"
   },
   "outputs": [],
   "source": []
  },
  {
   "cell_type": "markdown",
   "metadata": {
    "id": "xlyGqj4HCOpj"
   },
   "source": [
    "This function is created to calculate as well as plot the Reciever Operating Characteristics Curve (ROC) for model_1."
   ]
  },
  {
   "cell_type": "code",
   "execution_count": 48,
   "metadata": {
    "colab": {
     "base_uri": "https://localhost:8080/",
     "height": 1000
    },
    "id": "GfKMktU_27Wp",
    "outputId": "b86f65ab-577c-43b1-815b-d90f55444473",
    "scrolled": false
   },
   "outputs": [
    {
     "name": "stdout",
     "output_type": "stream",
     "text": [
      "1/1 [==============================] - 0s 118ms/step\n"
     ]
    },
    {
     "data": {
      "image/png": "[encoded data removed]",
      "text/plain": [
       "<Figure size 700x500 with 1 Axes>"
      ]
     },
     "metadata": {},
     "output_type": "display_data"
    },
    {
     "data": {
      "image/png": "[encoded data removed]",
      "text/plain": [
       "<Figure size 700x500 with 1 Axes>"
      ]
     },
     "metadata": {},
     "output_type": "display_data"
    },
    {
     "data": {
      "image/png": "[encoded data removed]",
      "text/plain": [
       "<Figure size 700x500 with 1 Axes>"
      ]
     },
     "metadata": {},
     "output_type": "display_data"
    }
   ],
   "source": [
    "y_true = []\n",
    "for img, label in test_set.unbatch().take(-1):  # `.take(-1)` takes the whole dataset\n",
    "    y_true.append(label.numpy())\n",
    "\n",
    "# Convert to a numpy array\n",
    "y_true = np.array(y_true)\n",
    "\n",
    "# Binarize the labels for multi-class ROC curve\n",
    "n_classes = 3  # Adjust based on your dataset\n",
    "y_true = label_binarize(y_true, classes=range(n_classes))\n",
    "\n",
    "# Predict probabilities for the test set\n",
    "y_pred = model.predict(test_set.map(lambda x, y: x))  # Only extract images, discard labels\n",
    "\n",
    "# Compute ROC curve and ROC area for each class\n",
    "fpr = dict()\n",
    "tpr = dict()\n",
    "roc_auc = dict()\n",
    "for i in range(n_classes):\n",
    "    fpr[i], tpr[i], _ = roc_curve(y_true[:, i], y_pred[:, i])\n",
    "    roc_auc[i] = auc(fpr[i], tpr[i])\n",
    "\n",
    "# Plot of a ROC curve for a specific class\n",
    "for i in range(n_classes):\n",
    "    plt.figure(figsize=(7, 5))\n",
    "    plt.plot(fpr[i], tpr[i], label='ROC curve (area = %0.2f)' % roc_auc[i])\n",
    "    plt.plot([0, 1], [0, 1], 'k--')\n",
    "    plt.xlim([0.0, 1.0])\n",
    "    plt.ylim([0.0, 1.05])\n",
    "    plt.xlabel('False Positive Rate')\n",
    "    plt.ylabel('True Positive Rate')\n",
    "    plt.title(f'Receiver Operating Characteristic (Class {i})')\n",
    "    plt.legend(loc=\"lower right\")\n",
    "    plt.show()\n"
   ]
  },
  {
   "cell_type": "markdown",
   "metadata": {},
   "source": [
    "### Training of model_2\n",
    "\n",
    "model_2 is created using the same MobileNetV3Large pre-trained model. The difference is that model_2 has different custom layers added to it. model_2 is then trained using the same dataset as model_1 for the same number of epochs."
   ]
  },
  {
   "cell_type": "code",
   "execution_count": 49,
   "metadata": {
    "colab": {
     "base_uri": "https://localhost:8080/"
    },
    "id": "8GQb-vKzJWa3",
    "outputId": "b57e11ce-fddf-4e71-ee93-c74accb02620"
   },
   "outputs": [
    {
     "name": "stdout",
     "output_type": "stream",
     "text": [
      "WARNING:tensorflow:`input_shape` is undefined or non-square, or `rows` is not 224. Weights for input shape (224, 224) will be loaded as the default.\n",
      "Model: \"model_2\"\n",
      "_________________________________________________________________\n",
      " Layer (type)                Output Shape              Param #   \n",
      "=================================================================\n",
      " input_4 (InputLayer)        [(None, 512, 512, 3)]     0         \n",
      "                                                                 \n",
      " MobilenetV3large (Function  (None, 16, 16, 960)       2996352   \n",
      " al)                                                             \n",
      "                                                                 \n",
      " conv2d (Conv2D)             (None, 14, 14, 128)       1106048   \n",
      "                                                                 \n",
      " batch_normalization_6 (Bat  (None, 14, 14, 128)       512       \n",
      " chNormalization)                                                \n",
      "                                                                 \n",
      " global_average_pooling2d_1  (None, 128)               0         \n",
      "  (GlobalAveragePooling2D)                                       \n",
      "                                                                 \n",
      " dense_9 (Dense)             (None, 256)               33024     \n",
      "                                                                 \n",
      " batch_normalization_7 (Bat  (None, 256)               1024      \n",
      " chNormalization)                                                \n",
      "                                                                 \n",
      " dropout_2 (Dropout)         (None, 256)               0         \n",
      "                                                                 \n",
      " dense_10 (Dense)            (None, 128)               32896     \n",
      "                                                                 \n",
      " batch_normalization_8 (Bat  (None, 128)               512       \n",
      " chNormalization)                                                \n",
      "                                                                 \n",
      " dropout_3 (Dropout)         (None, 128)               0         \n",
      "                                                                 \n",
      " dense_11 (Dense)            (None, 20)                2580      \n",
      "                                                                 \n",
      " dense_12 (Dense)            (None, 3)                 63        \n",
      "                                                                 \n",
      "=================================================================\n",
      "Total params: 4173011 (15.92 MB)\n",
      "Trainable params: 1175635 (4.48 MB)\n",
      "Non-trainable params: 2997376 (11.43 MB)\n",
      "_________________________________________________________________\n"
     ]
    }
   ],
   "source": [
    "# Load the pre-trained MobileNetV3Large model\n",
    "base_model = tf.keras.applications.MobileNetV3Large(input_shape=(512, 512, 3), include_top=False, weights='imagenet')\n",
    "base_model.trainable = False  # Freeze the base model for 'model_2'\n",
    "\n",
    "# Custom layers for 'model_2'\n",
    "inputs_2 = Input(shape=(512, 512, 3))\n",
    "x_2 = tf.keras.applications.mobilenet_v3.preprocess_input(inputs_2)\n",
    "x_2 = base_model(x_2, training=False)  # Ensure the base_model is in inference mode here\n",
    "\n",
    "# Add custom convolutional layers for 'model_2'\n",
    "x_2 = Conv2D(128, (3, 3), activation='relu')(x_2)\n",
    "x_2 = BatchNormalization()(x_2)\n",
    "x_2 = GlobalAveragePooling2D()(x_2)\n",
    "\n",
    "# Simplified Dense layers with regularization for 'model_2'\n",
    "x_2 = Dense(256, activation='relu')(x_2)\n",
    "x_2 = BatchNormalization()(x_2)\n",
    "x_2 = Dropout(0.5)(x_2)  # Increased dropout for regularization\n",
    "x_2 = Dense(128, activation='relu')(x_2)\n",
    "x_2 = BatchNormalization()(x_2)\n",
    "x_2 = Dropout(0.5)(x_2)\n",
    "\n",
    "# Final layers for 'model_2'\n",
    "x_2 = Dense(20, activation='softmax')(x_2)  \n",
    "outputs_2 = Dense(3, activation='softmax')(x_2)  # one for each class\n",
    "\n",
    "# Create 'model_2'\n",
    "model_2 = Model(inputs_2, outputs_2, name='model_2')\n",
    "\n",
    "\n",
    "model_2.summary()"
   ]
  },
  {
   "cell_type": "code",
   "execution_count": 50,
   "metadata": {
    "id": "IaLsLOnsK-IS"
   },
   "outputs": [],
   "source": [
    "# Compile 'model_2'\n",
    "model_2.compile(optimizer=tf.keras.optimizers.Adam(),\n",
    "              loss=tf.keras.losses.SparseCategoricalCrossentropy(from_logits=True),\n",
    "              metrics=['accuracy'])"
   ]
  },
  {
   "cell_type": "markdown",
   "metadata": {},
   "source": [
    "Training model_2 for 30 epochs"
   ]
  },
  {
   "cell_type": "code",
   "execution_count": 51,
   "metadata": {
    "colab": {
     "base_uri": "https://localhost:8080/"
    },
    "id": "75kddCrzJjF6",
    "outputId": "ecf95e37-9fde-4a37-8f76-2ef8ff6158f6"
   },
   "outputs": [
    {
     "name": "stdout",
     "output_type": "stream",
     "text": [
      "Epoch 1/30\n"
     ]
    },
    {
     "name": "stderr",
     "output_type": "stream",
     "text": [
      "/usr/local/lib/python3.11/dist-packages/keras/src/backend.py:5727: UserWarning: \"`sparse_categorical_crossentropy` received `from_logits=True`, but the `output` argument was produced by a Softmax activation and thus does not represent logits. Was this intended?\n",
      "  output, from_logits = _get_logits(\n"
     ]
    },
    {
     "name": "stdout",
     "output_type": "stream",
     "text": [
      "14/14 [==============================] - 17s 433ms/step - loss: 1.0643 - accuracy: 0.4750 - val_loss: 1.0428 - val_accuracy: 0.5125\n",
      "Epoch 2/30\n",
      "14/14 [==============================] - 7s 223ms/step - loss: 1.0352 - accuracy: 0.5300 - val_loss: 1.0253 - val_accuracy: 0.5125\n",
      "Epoch 3/30\n",
      "14/14 [==============================] - 7s 227ms/step - loss: 1.0070 - accuracy: 0.5525 - val_loss: 1.0273 - val_accuracy: 0.5125\n",
      "Epoch 4/30\n",
      "14/14 [==============================] - 7s 222ms/step - loss: 0.9946 - accuracy: 0.5537 - val_loss: 1.0310 - val_accuracy: 0.5125\n",
      "Epoch 5/30\n",
      "14/14 [==============================] - 7s 227ms/step - loss: 0.9757 - accuracy: 0.5650 - val_loss: 1.0293 - val_accuracy: 0.5125\n",
      "Epoch 6/30\n",
      "14/14 [==============================] - 7s 276ms/step - loss: 0.9578 - accuracy: 0.5763 - val_loss: 1.0278 - val_accuracy: 0.5125\n",
      "Epoch 7/30\n",
      "14/14 [==============================] - 8s 224ms/step - loss: 0.9466 - accuracy: 0.5875 - val_loss: 1.0141 - val_accuracy: 0.5125\n",
      "Epoch 8/30\n",
      "14/14 [==============================] - 7s 224ms/step - loss: 0.9326 - accuracy: 0.6012 - val_loss: 0.9920 - val_accuracy: 0.5125\n",
      "Epoch 9/30\n",
      "14/14 [==============================] - 6s 218ms/step - loss: 0.9227 - accuracy: 0.6100 - val_loss: 0.9850 - val_accuracy: 0.5125\n",
      "Epoch 10/30\n",
      "14/14 [==============================] - 7s 220ms/step - loss: 0.9135 - accuracy: 0.5925 - val_loss: 0.9891 - val_accuracy: 0.5125\n",
      "Epoch 11/30\n",
      "14/14 [==============================] - 7s 218ms/step - loss: 0.8969 - accuracy: 0.6363 - val_loss: 1.0122 - val_accuracy: 0.5562\n",
      "Epoch 12/30\n",
      "14/14 [==============================] - 7s 221ms/step - loss: 0.8849 - accuracy: 0.6250 - val_loss: 0.9869 - val_accuracy: 0.5125\n",
      "Epoch 13/30\n",
      "14/14 [==============================] - 7s 221ms/step - loss: 0.8808 - accuracy: 0.6263 - val_loss: 1.0528 - val_accuracy: 0.5188\n",
      "Epoch 14/30\n",
      "14/14 [==============================] - 7s 222ms/step - loss: 0.8699 - accuracy: 0.6388 - val_loss: 1.0586 - val_accuracy: 0.5875\n",
      "Epoch 15/30\n",
      "14/14 [==============================] - 7s 227ms/step - loss: 0.8682 - accuracy: 0.6463 - val_loss: 1.0750 - val_accuracy: 0.4812\n",
      "Epoch 16/30\n",
      "14/14 [==============================] - 7s 229ms/step - loss: 0.8501 - accuracy: 0.6662 - val_loss: 0.9650 - val_accuracy: 0.5063\n",
      "Epoch 17/30\n",
      "14/14 [==============================] - 7s 222ms/step - loss: 0.8459 - accuracy: 0.6538 - val_loss: 1.0267 - val_accuracy: 0.5125\n",
      "Epoch 18/30\n",
      "14/14 [==============================] - 7s 234ms/step - loss: 0.8299 - accuracy: 0.6825 - val_loss: 1.0294 - val_accuracy: 0.5125\n",
      "Epoch 19/30\n",
      "14/14 [==============================] - 7s 222ms/step - loss: 0.8136 - accuracy: 0.6963 - val_loss: 0.9450 - val_accuracy: 0.5312\n",
      "Epoch 20/30\n",
      "14/14 [==============================] - 7s 217ms/step - loss: 0.8013 - accuracy: 0.6900 - val_loss: 0.9936 - val_accuracy: 0.5250\n",
      "Epoch 21/30\n",
      "14/14 [==============================] - 7s 219ms/step - loss: 0.7822 - accuracy: 0.7063 - val_loss: 1.2941 - val_accuracy: 0.0750\n",
      "Epoch 22/30\n",
      "14/14 [==============================] - 7s 216ms/step - loss: 0.7929 - accuracy: 0.6950 - val_loss: 1.0363 - val_accuracy: 0.5063\n",
      "Epoch 23/30\n",
      "14/14 [==============================] - 7s 224ms/step - loss: 0.7753 - accuracy: 0.7063 - val_loss: 1.0473 - val_accuracy: 0.5125\n",
      "Epoch 24/30\n",
      "14/14 [==============================] - 7s 221ms/step - loss: 0.7894 - accuracy: 0.6888 - val_loss: 1.0551 - val_accuracy: 0.5125\n",
      "Epoch 25/30\n",
      "14/14 [==============================] - 7s 234ms/step - loss: 0.8058 - accuracy: 0.6825 - val_loss: 1.0539 - val_accuracy: 0.5125\n",
      "Epoch 26/30\n",
      "14/14 [==============================] - 7s 228ms/step - loss: 0.7793 - accuracy: 0.6888 - val_loss: 1.0221 - val_accuracy: 0.4938\n",
      "Epoch 27/30\n",
      "14/14 [==============================] - 7s 220ms/step - loss: 0.7459 - accuracy: 0.7250 - val_loss: 1.1770 - val_accuracy: 0.1437\n",
      "Epoch 28/30\n",
      "14/14 [==============================] - 7s 226ms/step - loss: 0.7276 - accuracy: 0.7375 - val_loss: 1.1173 - val_accuracy: 0.3000\n",
      "Epoch 29/30\n",
      "14/14 [==============================] - 7s 225ms/step - loss: 0.7326 - accuracy: 0.7262 - val_loss: 1.1344 - val_accuracy: 0.2937\n",
      "Epoch 30/30\n",
      "14/14 [==============================] - 7s 219ms/step - loss: 0.7123 - accuracy: 0.7387 - val_loss: 1.1816 - val_accuracy: 0.4187\n"
     ]
    }
   ],
   "source": [
    "# Training the model\n",
    "history_2 = model_2.fit(train_set, epochs=30, validation_data=vali_set)"
   ]
  },
  {
   "cell_type": "code",
   "execution_count": 52,
   "metadata": {
    "colab": {
     "base_uri": "https://localhost:8080/"
    },
    "id": "4h16VtMrN1Sf",
    "outputId": "b675812b-f011-416f-fd3c-2b4a80b245a5"
   },
   "outputs": [
    {
     "name": "stdout",
     "output_type": "stream",
     "text": [
      "1/1 [==============================] - 1s 664ms/step\n",
      "model 2 predictions\n",
      "[2, 0, 1, 1, 0, 0, 1, 0, 0, 0, 1, 1, 2, 1, 1, 1, 1, 1, 1, 0]\n",
      "[1 1 1 1 0 1 1 2 2 1 1 1 1 1 2 1 1 1 1 1]\n"
     ]
    }
   ],
   "source": [
    "# Predict probabilites of test data.\n",
    "probabilities_2 = model_2.predict(test_set)\n",
    "\n",
    "# Create classes from predictions\n",
    "print(\"model 2 predictions\")\n",
    "predictions_2 = np.argmax(probabilities_2,axis=1)\n",
    "actual_values_2 = labels[train_size :train_size + test_size]\n",
    "print(actual_values_2)\n",
    "print(predictions_2)"
   ]
  },
  {
   "cell_type": "code",
   "execution_count": 53,
   "metadata": {
    "colab": {
     "base_uri": "https://localhost:8080/"
    },
    "id": "Kcc8meBuN-G-",
    "outputId": "4deabc02-f769-4cfe-fa1d-1acac1bfb99f"
   },
   "outputs": [
    {
     "name": "stdout",
     "output_type": "stream",
     "text": [
      "balanced accuracy:   0.351\n",
      "accuracy:   0.550\n"
     ]
    }
   ],
   "source": [
    "print(\"balanced accuracy:   %0.3f\" % metrics.balanced_accuracy_score(actual_values_2, predictions_2))\n",
    "print(\"accuracy:   %0.3f\" % metrics.accuracy_score(actual_values_2, predictions_2))\n"
   ]
  },
  {
   "cell_type": "markdown",
   "metadata": {},
   "source": [
    "Calculation of evaluation metrics for model_2"
   ]
  },
  {
   "cell_type": "code",
   "execution_count": 54,
   "metadata": {
    "colab": {
     "base_uri": "https://localhost:8080/"
    },
    "id": "edEsXaMjQnQb",
    "outputId": "1e4465cf-8eea-4a16-f1a1-99d4ccaafc4a",
    "scrolled": true
   },
   "outputs": [
    {
     "name": "stdout",
     "output_type": "stream",
     "text": [
      "1/1 [==============================] - 1s 545ms/step\n",
      "Confusion Matrix for model 2:\n",
      " [[ 1  4  2]\n",
      " [ 0 10  1]\n",
      " [ 0  2  0]]\n",
      "\n",
      "Classification Report for model 2:\n",
      "               precision    recall  f1-score   support\n",
      "\n",
      "           0       1.00      0.14      0.25         7\n",
      "           1       0.62      0.91      0.74        11\n",
      "           2       0.00      0.00      0.00         2\n",
      "\n",
      "    accuracy                           0.55        20\n",
      "   macro avg       0.54      0.35      0.33        20\n",
      "weighted avg       0.69      0.55      0.49        20\n",
      "\n",
      "Accuracy for model 2: 55.00%\n"
     ]
    }
   ],
   "source": [
    "y_pred_2 = []\n",
    "for x, _ in test_set:\n",
    "    predictions_2 = model_2.predict(x)\n",
    "    predicted_classes_2 = np.argmax(predictions_2, axis=1)\n",
    "    y_pred_2.extend(predicted_classes_2)\n",
    "y_pred_2 = np.array(y_pred_2)\n",
    "\n",
    "# Extracting true labels from the test set\n",
    "true_labels = extract_labels(test_set)\n",
    "\n",
    "# Computing the confusion matrix\n",
    "conf_matrix_2 = confusion_matrix(true_labels, y_pred_2)\n",
    "print(\"Confusion Matrix for model 2:\\n\", conf_matrix_2)\n",
    "\n",
    "# Classification report for precision, recall, f1-score\n",
    "print(\"\\nClassification Report for model 2:\\n\", classification_report(true_labels, y_pred_2))\n",
    "\n",
    "# Accuracy\n",
    "accuracy_2 = np.mean(y_pred_2 == true_labels)\n",
    "print(\"Accuracy for model 2: {:.2f}%\".format(accuracy_2 * 100))"
   ]
  },
  {
   "cell_type": "markdown",
   "metadata": {},
   "source": [
    "Calculation and Plotting of ROC curve for model_2"
   ]
  },
  {
   "cell_type": "code",
   "execution_count": 55,
   "metadata": {
    "colab": {
     "base_uri": "https://localhost:8080/",
     "height": 1000
    },
    "id": "eByW4PU0OGzF",
    "outputId": "2a46dfb0-8ec8-492e-f07b-a51d6189e577",
    "scrolled": false
   },
   "outputs": [
    {
     "name": "stdout",
     "output_type": "stream",
     "text": [
      "1/1 [==============================] - 0s 108ms/step\n"
     ]
    },
    {
     "data": {
      "image/png": "[encoded data removed]",
      "text/plain": [
       "<Figure size 700x500 with 1 Axes>"
      ]
     },
     "metadata": {},
     "output_type": "display_data"
    },
    {
     "data": {
      "image/png": "[encoded data removed]",
      "text/plain": [
       "<Figure size 700x500 with 1 Axes>"
      ]
     },
     "metadata": {},
     "output_type": "display_data"
    },
    {
     "data": {
      "image/png": "[encoded data removed]",
      "text/plain": [
       "<Figure size 700x500 with 1 Axes>"
      ]
     },
     "metadata": {},
     "output_type": "display_data"
    }
   ],
   "source": [
    "y_true = []\n",
    "for img, label in test_set.unbatch().take(-1):  # `.take(-1)` takes the whole dataset\n",
    "    y_true.append(label.numpy())\n",
    "\n",
    "# Convert to a numpy array\n",
    "y_true = np.array(y_true)\n",
    "\n",
    "# Binarize the labels for multi-class ROC curve\n",
    "n_classes = 3 \n",
    "y_true = label_binarize(y_true, classes=range(n_classes))\n",
    "\n",
    "# Predict probabilities for the test set\n",
    "y_pred_2 = model_2.predict(test_set.map(lambda x, y: x))  # Only extract images, discard labels\n",
    "\n",
    "# Compute ROC curve and ROC area for each class\n",
    "fpr = dict()\n",
    "tpr = dict()\n",
    "roc_auc = dict()\n",
    "for i in range(n_classes):\n",
    "    fpr[i], tpr[i], _ = roc_curve(y_true[:, i], y_pred_2[:, i])\n",
    "    roc_auc[i] = auc(fpr[i], tpr[i])\n",
    "\n",
    "# Plot of a ROC curve for a specific class\n",
    "for i in range(n_classes):\n",
    "    plt.figure(figsize=(7, 5))\n",
    "    plt.plot(fpr[i], tpr[i], label='ROC curve (area = %0.2f)' % roc_auc[i])\n",
    "    plt.plot([0, 1], [0, 1], 'k--')\n",
    "    plt.xlim([0.0, 1.0])\n",
    "    plt.ylim([0.0, 1.05])\n",
    "    plt.xlabel('False Positive Rate')\n",
    "    plt.ylabel('True Positive Rate')\n",
    "    plt.title(f'Receiver Operating Characteristic Best Model(Class {i})')\n",
    "    plt.legend(loc=\"lower right\")\n",
    "    plt.show()\n"
   ]
  },
  {
   "cell_type": "markdown",
   "metadata": {},
   "source": [
    "These code below help to save the model in new folder created. The model architecture and weights are saved separately in this case."
   ]
  },
  {
   "cell_type": "code",
   "execution_count": null,
   "metadata": {},
   "outputs": [],
   "source": [
    "import os\n",
    "\n",
    "# Ensure the directory exists\n",
    "directory = 'E:/MyModels'\n",
    "if not os.path.exists(directory):\n",
    "    os.makedirs(directory)\n",
    "\n",
    "# Save model architecture\n",
    "with open(os.path.join(directory, 'model_architecture.json'), 'w') as f:\n",
    "    f.write(model.to_json())\n",
    "\n",
    "# Save weights\n",
    "model.save_weights(os.path.join(directory, 'model_weights.h5'))"
   ]
  },
  {
   "cell_type": "code",
   "execution_count": null,
   "metadata": {},
   "outputs": [],
   "source": [
    "# Save model_2 architecture\n",
    "with open(os.path.join(directory, 'model2_architecture.json'), 'w') as f:\n",
    "    f.write(model_2.to_json())\n",
    "\n",
    "# Save weights\n",
    "model.save_weights(os.path.join(directory, 'model2_weights.h5'))"
   ]
  }
 ],
 "metadata": {
  "colab": {
   "provenance": []
  },
  "kernelspec": {
   "display_name": "Python 3 (ipykernel)",
   "language": "python",
   "name": "python3"
  },
  "language_info": {
   "codemirror_mode": {
    "name": "ipython",
    "version": 3
   },
   "file_extension": ".py",
   "mimetype": "text/x-python",
   "name": "python",
   "nbconvert_exporter": "python",
   "pygments_lexer": "ipython3",
   "version": "3.9.13"
  }
 },
 "nbformat": 4,
 "nbformat_minor": 1
}
