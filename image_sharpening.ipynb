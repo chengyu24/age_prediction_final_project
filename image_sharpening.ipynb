{
 "cells": [
  {
   "cell_type": "markdown",
   "metadata": {
    "id": "37Hg63iXE6DC"
   },
   "source": [
    "# Image Enhancement - Image sharpening"
   ]
  },
  {
   "cell_type": "markdown",
   "metadata": {
    "id": "6S-6dv99JDcQ"
   },
   "source": [
    "Importing necessary libraries for image sharpening\n",
    "- cv2\n",
    "- matplotlib\n",
    "- numpy"
   ]
  },
  {
   "cell_type": "code",
   "execution_count": null,
   "metadata": {
    "id": "ooM2WnvcvyLG"
   },
   "outputs": [],
   "source": [
    "#Import the necessary libraries\n",
    "import cv2\n",
    "import matplotlib.pyplot as plt\n",
    "import numpy as np\n",
    "import os\n",
    "\n"
   ]
  },
  {
   "cell_type": "markdown",
   "metadata": {
    "id": "HsAqqsrOJMRa"
   },
   "source": [
    "Mounting google drive where the dataset is stored"
   ]
  },
  {
   "cell_type": "code",
   "execution_count": null,
   "metadata": {
    "colab": {
     "base_uri": "https://localhost:8080/"
    },
    "id": "pnziI1ECwR7g",
    "outputId": "126a3512-12aa-4bb0-e536-75dd3e8d86fb"
   },
   "outputs": [
    {
     "name": "stdout",
     "output_type": "stream",
     "text": [
      "Mounted at /content/drive/\n"
     ]
    }
   ],
   "source": [
    "from google.colab import drive\n",
    "drive.mount('/content/drive/')"
   ]
  },
  {
   "cell_type": "code",
   "execution_count": null,
   "metadata": {
    "colab": {
     "base_uri": "https://localhost:8080/"
    },
    "id": "3_13qiSbwuTU",
    "outputId": "db5ed889-112f-4157-a538-f9fa17221e76"
   },
   "outputs": [
    {
     "name": "stdout",
     "output_type": "stream",
     "text": [
      "'Colab Notebooks'   databases   ML   MyModels   mysql  'Neural Networks'  'Subject Materials'\n",
      "/content/drive/MyDrive/ML\n"
     ]
    }
   ],
   "source": [
    "# List the contents of the root directory\n",
    "!ls '/content/drive/MyDrive/'\n",
    "\n",
    "# Change directory\n",
    "%cd '/content/drive/MyDrive/ML'"
   ]
  },
  {
   "cell_type": "markdown",
   "metadata": {
    "id": "SKWPh6i9JSFE"
   },
   "source": [
    "Creation of image sharpening kernel\n",
    "\n",
    "simple image sharpening kernel  is created here by highlighting the edges of the images."
   ]
  },
  {
   "cell_type": "code",
   "execution_count": null,
   "metadata": {
    "id": "qQWCKKATw5pp"
   },
   "outputs": [],
   "source": [
    "# Create the sharpening kernel\n",
    "kernel = np.array([[0, -1, 0],\n",
    "                   [-1, 5, -1],\n",
    "                   [0, -1, 0]])"
   ]
  },
  {
   "cell_type": "code",
   "execution_count": null,
   "metadata": {
    "colab": {
     "base_uri": "https://localhost:8080/",
     "height": 35
    },
    "id": "kmDGEOv3x0sq",
    "outputId": "7883ed58-3cd9-44ef-af8c-ee617aa94e76"
   },
   "outputs": [
    {
     "data": {
      "application/vnd.google.colaboratory.intrinsic+json": {
       "type": "string"
      },
      "text/plain": [
       "'/content/drive/MyDrive/ML'"
      ]
     },
     "execution_count": 5,
     "metadata": {},
     "output_type": "execute_result"
    }
   ],
   "source": [
    "%pwd"
   ]
  },
  {
   "cell_type": "markdown",
   "metadata": {
    "id": "AOxlRL7NKhlN"
   },
   "source": [
    "Generation of file path and filtering out potentially any other file type"
   ]
  },
  {
   "cell_type": "code",
   "execution_count": null,
   "metadata": {
    "id": "r_Eooojt0ytE"
   },
   "outputs": [],
   "source": [
    "# Path to your folder containing the images\n",
    "folder_path = 'Train'\n",
    "\n",
    "# List all files in the folder and filter out non-jpg files\n",
    "image_files = [f for f in os.listdir(folder_path) if f.endswith('.jpg')]\n",
    "\n",
    "# Generate full image paths\n",
    "image_paths = [os.path.join(folder_path, file) for file in image_files]\n"
   ]
  },
  {
   "cell_type": "markdown",
   "metadata": {
    "id": "vFL3SK62K1jI"
   },
   "source": [
    "Creation of new folder to store sharpened images"
   ]
  },
  {
   "cell_type": "code",
   "execution_count": null,
   "metadata": {
    "id": "4sRypOjksPG2"
   },
   "outputs": [],
   "source": [
    "# New folder name for sharpened images\n",
    "new_folder_name = 'SharpenedImages'\n",
    "new_folder_path = os.path.join('/content/drive/MyDrive/ML', new_folder_name)\n",
    "\n",
    "# Create the new folder if it doesn't exist\n",
    "if not os.path.exists(new_folder_path):\n",
    "    os.makedirs(new_folder_path)"
   ]
  },
  {
   "cell_type": "markdown",
   "metadata": {
    "id": "Roi2iMjzLCjD"
   },
   "source": [
    "Iterate over each image to apply the image sharpening\n",
    "\n",
    "Since images in Train folder are already in ascending order, iteration and creation of the file path for the sharpened images are as follows."
   ]
  },
  {
   "cell_type": "code",
   "execution_count": null,
   "metadata": {
    "id": "djhQZ6sZzCgg"
   },
   "outputs": [],
   "source": [
    "# Loop through each image\n",
    "for idx, img_path in enumerate(image_paths):\n",
    "    # Load image\n",
    "    image = cv2.imread(img_path)\n",
    "\n",
    "    # Check if the image is loaded correctly\n",
    "    if image is None:\n",
    "        print(f\"Error: Image at {img_path} not loaded. Check the file path.\")\n",
    "        continue\n",
    "\n",
    "    # Sharpen the image\n",
    "    sharpened_image = cv2.filter2D(image, -1, kernel)\n",
    "\n",
    "    sharpened_image_path = os.path.join(new_folder_path, f'sharpened_image_{idx}.jpg')\n",
    "\n",
    "    # Save the sharpened image\n",
    "    cv2.imwrite(sharpened_image_path, sharpened_image)"
   ]
  },
  {
   "cell_type": "code",
   "execution_count": null,
   "metadata": {
    "colab": {
     "base_uri": "https://localhost:8080/"
    },
    "id": "9bZp7NBxBUd0",
    "outputId": "67fe281f-693c-4889-a889-e0655f27e595"
   },
   "outputs": [
    {
     "name": "stdout",
     "output_type": "stream",
     "text": [
      "/content/drive/MyDrive/ML/SharpenedImages\n"
     ]
    }
   ],
   "source": [
    "%cd SharpenedImages"
   ]
  },
  {
   "cell_type": "markdown",
   "metadata": {
    "id": "C3aHnOZzK8hv"
   },
   "source": [
    "Displaying a few of the sharpened images for demonstrative purposes"
   ]
  },
  {
   "cell_type": "code",
   "execution_count": null,
   "metadata": {
    "colab": {
     "base_uri": "https://localhost:8080/",
     "height": 296
    },
    "id": "jEyXrEjK6aDp",
    "outputId": "5d6e074b-4448-4756-c1d6-5f9226735757"
   },
   "outputs": [
    {
     "data": {
      "image/jpeg": "[encoded data removed]",
      "text/plain": [
       "<IPython.core.display.Image object>"
      ]
     },
     "metadata": {},
     "output_type": "display_data"
    },
    {
     "data": {
      "image/jpeg": "[encoded data removed]",
      "text/plain": [
       "<IPython.core.display.Image object>"
      ]
     },
     "metadata": {},
     "output_type": "display_data"
    },
    {
     "data": {
      "image/jpeg": "[encoded data removed]",
      "text/plain": [
       "<IPython.core.display.Image object>"
      ]
     },
     "metadata": {},
     "output_type": "display_data"
    }
   ],
   "source": [
    "from IPython.display import Image, display\n",
    "\n",
    "listOfImageNames = ['sharpened_image_1.jpg',\n",
    "                    'sharpened_image_3.jpg',\n",
    "                    'sharpened_image_5.jpg']\n",
    "\n",
    "for imageName in listOfImageNames:\n",
    "    display(Image(filename=imageName))"
   ]
  },
  {
   "cell_type": "code",
   "execution_count": null,
   "metadata": {
    "id": "5sJJh2Kl6jvM"
   },
   "outputs": [],
   "source": []
  },
  {
   "cell_type": "code",
   "execution_count": null,
   "metadata": {
    "id": "u8VXJcJL6nyL"
   },
   "outputs": [],
   "source": []
  }
 ],
 "metadata": {
  "colab": {
   "provenance": []
  },
  "kernelspec": {
   "display_name": "Python 3 (ipykernel)",
   "language": "python",
   "name": "python3"
  },
  "language_info": {
   "codemirror_mode": {
    "name": "ipython",
    "version": 3
   },
   "file_extension": ".py",
   "mimetype": "text/x-python",
   "name": "python",
   "nbconvert_exporter": "python",
   "pygments_lexer": "ipython3",
   "version": "3.9.13"
  }
 },
 "nbformat": 4,
 "nbformat_minor": 1
}
